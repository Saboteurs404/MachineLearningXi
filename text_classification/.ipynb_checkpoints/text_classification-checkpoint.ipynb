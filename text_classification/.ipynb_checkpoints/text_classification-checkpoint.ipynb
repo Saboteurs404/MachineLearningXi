{
 "cells": [
  {
   "cell_type": "code",
   "execution_count": null,
   "id": "b677aff8-b20e-4275-a066-d5288da14e5f",
   "metadata": {},
   "outputs": [],
   "source": [
    "'''\n",
    "本页内容：\n",
    "下载IMDB数据集\n",
    "探索数据\n",
    "    将整数转换回单词\n",
    "准备数据\n",
    "构建模型\n",
    "    隐层单元\n",
    "    损失函数与优化器\n",
    "创建一个验证集\n",
    "训练模型\n",
    "评估模型\n",
    "创建一个准确率（accuracy）和损失值（loss）随时间变化的图表\n",
    "\n",
    "\n",
    "使用评论文本将影评分为积极或消极类型，这是一个二分类问题\n",
    "\n",
    "我们将使用来源于网络电影数据库的IMDB数据集，其中包含50000条影评文本，\n",
    "从该数据集切割出25000条评论用作训练，另外25000条用作测试，训练集与测试集是平衡的，意味着他们包含相等数量的积极与消极评论\n",
    "\n",
    "\n",
    "IMDB 数据集已经打包在 Tensorflow 中。\n",
    "该数据集已经经过预处理，评论（单词序列）已经被转换为整数序列，其中每个整数表示字典中的特定单词。\n",
    "\n",
    "'''"
   ]
  },
  {
   "cell_type": "code",
   "execution_count": 1,
   "id": "98226077-02eb-4b6e-abf5-8feef9510d1e",
   "metadata": {},
   "outputs": [
    {
     "name": "stdout",
     "output_type": "stream",
     "text": [
      "2.13.0\n"
     ]
    }
   ],
   "source": [
    "import tensorflow as tf\n",
    "from tensorflow import keras\n",
    "\n",
    "import numpy as np\n",
    "print(tf.__version__)"
   ]
  },
  {
   "cell_type": "code",
   "execution_count": null,
   "id": "85d6f3c9-5f5b-41d5-9d79-bc932941b4a6",
   "metadata": {},
   "outputs": [],
   "source": [
    "# 下载的IMDB数据集\n",
    "imdb = keras"
   ]
  }
 ],
 "metadata": {
  "kernelspec": {
   "display_name": "Python 3 (ipykernel)",
   "language": "python",
   "name": "python3"
  },
  "language_info": {
   "codemirror_mode": {
    "name": "ipython",
    "version": 3
   },
   "file_extension": ".py",
   "mimetype": "text/x-python",
   "name": "python",
   "nbconvert_exporter": "python",
   "pygments_lexer": "ipython3",
   "version": "3.10.13"
  }
 },
 "nbformat": 4,
 "nbformat_minor": 5
}
