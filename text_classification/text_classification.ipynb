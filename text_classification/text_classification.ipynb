{
 "cells": [
  {
   "cell_type": "code",
   "execution_count": null,
   "id": "b677aff8-b20e-4275-a066-d5288da14e5f",
   "metadata": {},
   "outputs": [],
   "source": [
    "'''\n",
    "本页内容：\n",
    "下载IMDB数据集\n",
    "探索数据\n",
    "    将整数转换回单词\n",
    "准备数据\n",
    "构建模型\n",
    "    隐层单元\n",
    "    损失函数与优化器\n",
    "创建一个验证集\n",
    "训练模型\n",
    "评估模型\n",
    "创建一个准确率（accuracy）和损失值（loss）随时间变化的图表\n",
    "\n",
    "\n",
    "使用评论文本将影评分为积极或消极类型，这是一个二分类问题\n",
    "\n",
    "我们将使用来源于网络电影数据库的IMDB数据集，其中包含50000条影评文本，\n",
    "从该数据集切割出25000条评论用作训练，另外25000条用作测试，训练集与测试集是平衡的，意味着他们包含相等数量的积极与消极评论\n",
    "\n",
    "\n",
    "IMDB 数据集已经打包在 Tensorflow 中。\n",
    "该数据集已经经过预处理，评论（单词序列）已经被转换为整数序列，其中每个整数表示字典中的特定单词。\n",
    "\n",
    "'''"
   ]
  },
  {
   "cell_type": "code",
   "execution_count": 2,
   "id": "98226077-02eb-4b6e-abf5-8feef9510d1e",
   "metadata": {},
   "outputs": [
    {
     "name": "stdout",
     "output_type": "stream",
     "text": [
      "2.12.0\n"
     ]
    }
   ],
   "source": [
    "import tensorflow as tf\n",
    "from tensorflow import keras\n",
    "\n",
    "import numpy as np\n",
    "print(tf.__version__)"
   ]
  },
  {
   "cell_type": "code",
   "execution_count": 3,
   "id": "85d6f3c9-5f5b-41d5-9d79-bc932941b4a6",
   "metadata": {},
   "outputs": [
    {
     "name": "stdout",
     "output_type": "stream",
     "text": [
      "Downloading data from https://storage.googleapis.com/tensorflow/tf-keras-datasets/imdb.npz\n",
      "17464789/17464789 [==============================] - 4s 0us/step\n"
     ]
    }
   ],
   "source": [
    "# 下载的IMDB数据集\n",
    "imdb = keras.datasets.imdb\n",
    "(train_data, train_labels), (test_data, test_labels) = imdb.load_data(num_words=10000)\n",
    "# 参数 num_words=10000 保留了训练数据中最常出现的 10,000 个单词。\n",
    "# 为了保持数据规模的可管理性，低频词将被丢弃"
   ]
  },
  {
   "cell_type": "code",
   "execution_count": 4,
   "outputs": [
    {
     "name": "stdout",
     "output_type": "stream",
     "text": [
      "Training entries: 25000, labels: 25000\n",
      "首条评论： [1, 14, 22, 16, 43, 530, 973, 1622, 1385, 65, 458, 4468, 66, 3941, 4, 173, 36, 256, 5, 25, 100, 43, 838, 112, 50, 670, 2, 9, 35, 480, 284, 5, 150, 4, 172, 112, 167, 2, 336, 385, 39, 4, 172, 4536, 1111, 17, 546, 38, 13, 447, 4, 192, 50, 16, 6, 147, 2025, 19, 14, 22, 4, 1920, 4613, 469, 4, 22, 71, 87, 12, 16, 43, 530, 38, 76, 15, 13, 1247, 4, 22, 17, 515, 17, 12, 16, 626, 18, 2, 5, 62, 386, 12, 8, 316, 8, 106, 5, 4, 2223, 5244, 16, 480, 66, 3785, 33, 4, 130, 12, 16, 38, 619, 5, 25, 124, 51, 36, 135, 48, 25, 1415, 33, 6, 22, 12, 215, 28, 77, 52, 5, 14, 407, 16, 82, 2, 8, 4, 107, 117, 5952, 15, 256, 4, 2, 7, 3766, 5, 723, 36, 71, 43, 530, 476, 26, 400, 317, 46, 7, 4, 2, 1029, 13, 104, 88, 4, 381, 15, 297, 98, 32, 2071, 56, 26, 141, 6, 194, 7486, 18, 4, 226, 22, 21, 134, 476, 26, 480, 5, 144, 30, 5535, 18, 51, 36, 28, 224, 92, 25, 104, 4, 226, 65, 16, 38, 1334, 88, 12, 16, 283, 5, 16, 4472, 113, 103, 32, 15, 16, 5345, 19, 178, 32]\n",
      "218 189\n"
     ]
    }
   ],
   "source": [
    "# SECTION: 探索数据\n",
    "print(\"Training entries: {}, labels: {}\".format(len(train_data), len(train_labels)))\n",
    "# 评论文本将被转化为整数值，其中每个整数代表词典中的一个单词\n",
    "print(\"首条评论：\", train_data[0])\n",
    "# 电影评论可能具有不同的长度，但是神经网络的输入必须是统一的长度，因此还需解决该问题\n",
    "print(len(train_data[0]), len(train_data[1]))"
   ],
   "metadata": {
    "collapsed": false
   }
  },
  {
   "cell_type": "code",
   "execution_count": 7,
   "outputs": [
    {
     "data": {
      "text/plain": "\"<START> this film was just brilliant casting location scenery story direction everyone's really suited the part they played and you could just imagine being there robert <UNK> is an amazing actor and now the same being director <UNK> father came from the same scottish island as myself so i loved the fact there was a real connection with this film the witty remarks throughout the film were great it was just brilliant so much that i bought the film as soon as it was released for <UNK> and would recommend it to everyone to watch and the fly fishing was amazing really cried at the end it was so sad and you know what they say if you cry at a film it must have been good and this definitely was also <UNK> to the two little boy's that played the <UNK> of norman and paul they were just brilliant children are often left out of the <UNK> list i think because the stars that play them all grown up are such a big profile for the whole film but these children are amazing and should be praised for what they have done don't you think the whole story was so lovely because it was true and was someone's life after all that was shared with us all\""
     },
     "execution_count": 7,
     "metadata": {},
     "output_type": "execute_result"
    }
   ],
   "source": [
    "# SECTION 将整数转换会单词\n",
    "# 一个映射单词到整数索引的词典\n",
    "word_index = imdb.get_word_index()\n",
    "\n",
    "# 保留第一个索引\n",
    "word_index = {k:(v+3) for k, v in word_index.items()}\n",
    "word_index[\"<PAD>\"] = 0\n",
    "word_index[\"<START>\"] = 1\n",
    "word_index[\"<UNK>\"] = 2 #unknown\n",
    "word_index[\"<UNUSED>\"] = 3\n",
    "\n",
    "reverse_word_index = dict([(value, key) for (key, value) in word_index.items()])\n",
    "\n",
    "def decode_review(text):\n",
    "    return ' '.join([reverse_word_index.get(i, '?') for i in text])\n",
    "\n",
    "decode_review(train_data[0])\n"
   ],
   "metadata": {
    "collapsed": false
   }
  },
  {
   "cell_type": "code",
   "execution_count": 9,
   "outputs": [
    {
     "name": "stdout",
     "output_type": "stream",
     "text": [
      "查看样本长度： 256 256\n",
      "并检查首条评论： <START> this film was just brilliant casting location scenery story direction everyone's really suited the part they played and you could just imagine being there robert <UNK> is an amazing actor and now the same being director <UNK> father came from the same scottish island as myself so i loved the fact there was a real connection with this film the witty remarks throughout the film were great it was just brilliant so much that i bought the film as soon as it was released for <UNK> and would recommend it to everyone to watch and the fly fishing was amazing really cried at the end it was so sad and you know what they say if you cry at a film it must have been good and this definitely was also <UNK> to the two little boy's that played the <UNK> of norman and paul they were just brilliant children are often left out of the <UNK> list i think because the stars that play them all grown up are such a big profile for the whole film but these children are amazing and should be praised for what they have done don't you think the whole story was so lovely because it was true and was someone's life after all that was shared with us all <PAD> <PAD> <PAD> <PAD> <PAD> <PAD> <PAD> <PAD> <PAD> <PAD> <PAD> <PAD> <PAD> <PAD> <PAD> <PAD> <PAD> <PAD> <PAD> <PAD> <PAD> <PAD> <PAD> <PAD> <PAD> <PAD> <PAD> <PAD> <PAD> <PAD> <PAD> <PAD> <PAD> <PAD> <PAD> <PAD> <PAD> <PAD>\n"
     ]
    }
   ],
   "source": [
    "# SECTION 准备数据\n",
    "'''\n",
    "影评-- 即整数数组必须在输入神经网络之前转换为张量，这种转换可以通过两种方式来完成\n",
    "\n",
    "- 将数组转换为表示单词出现与否的由0和1组成的向量，类似于one-hot编码。例如\n",
    "例如，序列[3, 5]将转换为一个 10,000 维的向量，该向量除了索引为 3 和 5 的位置是 1 以外，其他都为 0。\n",
    "\n",
    "然后将其作为网络的首层——一个可以处理浮点型向量数据的稠密层，不过这种方法需要大量内存，\n",
    "需要一个大小为num_words*num_reviews的矩阵\n",
    "\n",
    "或者我们可以填充数组来保证输入数据具有相同的长度，然后创建一个大小为max_length * num_reciews的整形张量。\n",
    "\n",
    "我们可以使用能够处理此形状数据的嵌入层作为网络的第一层\n",
    "\n",
    "\n",
    "'''\n",
    "\n",
    "# TODO: 由于电影评论长度必须相同，我们将使用pad_sequences函数来使长度标准化\n",
    "\n",
    "train_data = keras.preprocessing.sequence.pad_sequences(train_data, value=word_index[\"<PAD>\"],padding='post',maxlen=256)\n",
    "\n",
    "test_data = keras.preprocessing.sequence.pad_sequences(test_data, value=word_index[\"<PAD>\"],padding='post',maxlen=256)\n",
    "\n",
    "print(\"查看样本长度：\", len(train_data[0]),len(test_data[1]))\n",
    "\n",
    "print(\"并检查首条评论：\", decode_review(train_data[0]))"
   ],
   "metadata": {
    "collapsed": false
   }
  },
  {
   "cell_type": "code",
   "execution_count": 10,
   "outputs": [
    {
     "name": "stdout",
     "output_type": "stream",
     "text": [
      "Model: \"sequential\"\n",
      "_________________________________________________________________\n",
      " Layer (type)                Output Shape              Param #   \n",
      "=================================================================\n",
      " embedding (Embedding)       (None, None, 16)          160000    \n",
      "                                                                 \n",
      " global_average_pooling1d (G  (None, 16)               0         \n",
      " lobalAveragePooling1D)                                          \n",
      "                                                                 \n",
      " dense (Dense)               (None, 16)                272       \n",
      "                                                                 \n",
      " dense_1 (Dense)             (None, 1)                 17        \n",
      "                                                                 \n",
      "=================================================================\n",
      "Total params: 160,289\n",
      "Trainable params: 160,289\n",
      "Non-trainable params: 0\n",
      "_________________________________________________________________\n"
     ]
    }
   ],
   "source": [
    "# SECTION: 构建模型\n",
    "'''\n",
    "神经网络有堆叠的层来构建，这需要从啷个主要方面来进行体系结构决策：\n",
    "- 模型里有多少层、\n",
    "- 每个层有多少个隐层单元（hidden units）\n",
    "\n",
    "- 第一层是嵌入层（EMBEDDING）层，该层采用整数编码的词汇表，并查找每个词汇索引的嵌入向量（embedding vector）.这些向量是通过模型训练学习到的，\n",
    "\n",
    "- 接下来，GlobalAveragePooling1D 将通过对序列维度求平均值来为每个样本返回一个定长输出向量。这允许模型以尽可能最简单的方式处理变长输入。\n",
    "\n",
    "- 该定长输出向量通过一个有 16 个隐层单元的全连接（Dense）层传输。\n",
    "\n",
    "- 最后一层与单个输出结点密集连接。使用 Sigmoid 激活函数，其函数值为介于 0 与 1 之间的浮点数，表示概率或置信度。\n",
    "\n",
    "\n",
    "z在此样本中，输入数据包含一个单词索引的数组，要预测的标签为0或1，\n",
    "\n",
    "\n",
    "'''\n",
    "\n",
    "# TODO: 输入形状是用于电影评论的词汇数目（10000词）\n",
    "\n",
    "vocab_size = 10000\n",
    "\n",
    "model = keras.Sequential()\n",
    "model.add(keras.layers.Embedding(vocab_size, 16)) # 嵌入层\n",
    "model.add(keras.layers.GlobalAvgPool1D()) # 池化层\n",
    "model.add(keras.layers.Dense(16, activation='relu')) #全连接池\n",
    "model.add(keras.layers.Dense(1, activation='sigmoid'))\n",
    "\n",
    "model.summary()\n",
    "\n",
    "\n",
    "\n"
   ],
   "metadata": {
    "collapsed": false
   }
  },
  {
   "cell_type": "code",
   "execution_count": 11,
   "outputs": [
    {
     "name": "stdout",
     "output_type": "stream",
     "text": [
      "Epoch 1/40\n",
      "30/30 [==============================] - 1s 13ms/step - loss: 0.6922 - accuracy: 0.5723 - val_loss: 0.6906 - val_accuracy: 0.7120\n",
      "Epoch 2/40\n",
      "30/30 [==============================] - 0s 10ms/step - loss: 0.6875 - accuracy: 0.7489 - val_loss: 0.6839 - val_accuracy: 0.7489\n",
      "Epoch 3/40\n",
      "30/30 [==============================] - 0s 10ms/step - loss: 0.6768 - accuracy: 0.7481 - val_loss: 0.6701 - val_accuracy: 0.7588\n",
      "Epoch 4/40\n",
      "30/30 [==============================] - 0s 10ms/step - loss: 0.6571 - accuracy: 0.7735 - val_loss: 0.6470 - val_accuracy: 0.7655\n",
      "Epoch 5/40\n",
      "30/30 [==============================] - 0s 11ms/step - loss: 0.6270 - accuracy: 0.7876 - val_loss: 0.6140 - val_accuracy: 0.7635\n",
      "Epoch 6/40\n",
      "30/30 [==============================] - 0s 10ms/step - loss: 0.5870 - accuracy: 0.8033 - val_loss: 0.5740 - val_accuracy: 0.8030\n",
      "Epoch 7/40\n",
      "30/30 [==============================] - 0s 10ms/step - loss: 0.5408 - accuracy: 0.8282 - val_loss: 0.5308 - val_accuracy: 0.8175\n",
      "Epoch 8/40\n",
      "30/30 [==============================] - 0s 10ms/step - loss: 0.4934 - accuracy: 0.8465 - val_loss: 0.4888 - val_accuracy: 0.8292\n",
      "Epoch 9/40\n",
      "30/30 [==============================] - 0s 10ms/step - loss: 0.4485 - accuracy: 0.8601 - val_loss: 0.4520 - val_accuracy: 0.8429\n",
      "Epoch 10/40\n",
      "30/30 [==============================] - 0s 10ms/step - loss: 0.4091 - accuracy: 0.8703 - val_loss: 0.4194 - val_accuracy: 0.8522\n",
      "Epoch 11/40\n",
      "30/30 [==============================] - 0s 10ms/step - loss: 0.3747 - accuracy: 0.8819 - val_loss: 0.3931 - val_accuracy: 0.8582\n",
      "Epoch 12/40\n",
      "30/30 [==============================] - 0s 10ms/step - loss: 0.3455 - accuracy: 0.8886 - val_loss: 0.3720 - val_accuracy: 0.8649\n",
      "Epoch 13/40\n",
      "30/30 [==============================] - 0s 10ms/step - loss: 0.3209 - accuracy: 0.8940 - val_loss: 0.3546 - val_accuracy: 0.8676\n",
      "Epoch 14/40\n",
      "30/30 [==============================] - 0s 10ms/step - loss: 0.2994 - accuracy: 0.9008 - val_loss: 0.3416 - val_accuracy: 0.8699\n",
      "Epoch 15/40\n",
      "30/30 [==============================] - 0s 10ms/step - loss: 0.2818 - accuracy: 0.9041 - val_loss: 0.3293 - val_accuracy: 0.8725\n",
      "Epoch 16/40\n",
      "30/30 [==============================] - 0s 10ms/step - loss: 0.2649 - accuracy: 0.9105 - val_loss: 0.3194 - val_accuracy: 0.8765\n",
      "Epoch 17/40\n",
      "30/30 [==============================] - 0s 10ms/step - loss: 0.2509 - accuracy: 0.9141 - val_loss: 0.3119 - val_accuracy: 0.8780\n",
      "Epoch 18/40\n",
      "30/30 [==============================] - 0s 10ms/step - loss: 0.2375 - accuracy: 0.9190 - val_loss: 0.3061 - val_accuracy: 0.8780\n",
      "Epoch 19/40\n",
      "30/30 [==============================] - 0s 10ms/step - loss: 0.2264 - accuracy: 0.9225 - val_loss: 0.3017 - val_accuracy: 0.8789\n",
      "Epoch 20/40\n",
      "30/30 [==============================] - 0s 10ms/step - loss: 0.2148 - accuracy: 0.9269 - val_loss: 0.2959 - val_accuracy: 0.8802\n",
      "Epoch 21/40\n",
      "30/30 [==============================] - 0s 10ms/step - loss: 0.2049 - accuracy: 0.9309 - val_loss: 0.2928 - val_accuracy: 0.8828\n",
      "Epoch 22/40\n",
      "30/30 [==============================] - 0s 10ms/step - loss: 0.1956 - accuracy: 0.9347 - val_loss: 0.2911 - val_accuracy: 0.8826\n",
      "Epoch 23/40\n",
      "30/30 [==============================] - 0s 11ms/step - loss: 0.1867 - accuracy: 0.9378 - val_loss: 0.2878 - val_accuracy: 0.8833\n",
      "Epoch 24/40\n",
      "30/30 [==============================] - 0s 10ms/step - loss: 0.1786 - accuracy: 0.9429 - val_loss: 0.2862 - val_accuracy: 0.8850\n",
      "Epoch 25/40\n",
      "30/30 [==============================] - 0s 10ms/step - loss: 0.1712 - accuracy: 0.9453 - val_loss: 0.2850 - val_accuracy: 0.8850\n",
      "Epoch 26/40\n",
      "30/30 [==============================] - 0s 10ms/step - loss: 0.1638 - accuracy: 0.9485 - val_loss: 0.2863 - val_accuracy: 0.8837\n",
      "Epoch 27/40\n",
      "30/30 [==============================] - 0s 10ms/step - loss: 0.1574 - accuracy: 0.9513 - val_loss: 0.2846 - val_accuracy: 0.8844\n",
      "Epoch 28/40\n",
      "30/30 [==============================] - 0s 10ms/step - loss: 0.1510 - accuracy: 0.9533 - val_loss: 0.2856 - val_accuracy: 0.8832\n",
      "Epoch 29/40\n",
      "30/30 [==============================] - 0s 10ms/step - loss: 0.1457 - accuracy: 0.9550 - val_loss: 0.2854 - val_accuracy: 0.8847\n",
      "Epoch 30/40\n",
      "30/30 [==============================] - 0s 10ms/step - loss: 0.1393 - accuracy: 0.9581 - val_loss: 0.2862 - val_accuracy: 0.8860\n",
      "Epoch 31/40\n",
      "30/30 [==============================] - 0s 10ms/step - loss: 0.1339 - accuracy: 0.9597 - val_loss: 0.2889 - val_accuracy: 0.8834\n",
      "Epoch 32/40\n",
      "30/30 [==============================] - 0s 10ms/step - loss: 0.1289 - accuracy: 0.9629 - val_loss: 0.2886 - val_accuracy: 0.8859\n",
      "Epoch 33/40\n",
      "30/30 [==============================] - 0s 10ms/step - loss: 0.1237 - accuracy: 0.9641 - val_loss: 0.2909 - val_accuracy: 0.8857\n",
      "Epoch 34/40\n",
      "30/30 [==============================] - 0s 10ms/step - loss: 0.1195 - accuracy: 0.9667 - val_loss: 0.2925 - val_accuracy: 0.8861\n",
      "Epoch 35/40\n",
      "30/30 [==============================] - 0s 10ms/step - loss: 0.1148 - accuracy: 0.9677 - val_loss: 0.2942 - val_accuracy: 0.8855\n",
      "Epoch 36/40\n",
      "30/30 [==============================] - 0s 10ms/step - loss: 0.1107 - accuracy: 0.9696 - val_loss: 0.2972 - val_accuracy: 0.8856\n",
      "Epoch 37/40\n",
      "30/30 [==============================] - 0s 10ms/step - loss: 0.1066 - accuracy: 0.9722 - val_loss: 0.2995 - val_accuracy: 0.8844\n",
      "Epoch 38/40\n",
      "30/30 [==============================] - 0s 10ms/step - loss: 0.1034 - accuracy: 0.9726 - val_loss: 0.3021 - val_accuracy: 0.8854\n",
      "Epoch 39/40\n",
      "30/30 [==============================] - 0s 10ms/step - loss: 0.0989 - accuracy: 0.9749 - val_loss: 0.3046 - val_accuracy: 0.8843\n",
      "Epoch 40/40\n",
      "30/30 [==============================] - 0s 10ms/step - loss: 0.0952 - accuracy: 0.9759 - val_loss: 0.3079 - val_accuracy: 0.8838\n"
     ]
    }
   ],
   "source": [
    "''' SECTION：隐层单元\n",
    "上述模型在输入输出之间有两个中间层或隐藏层。输出（单元，结点或神经元）的数量即为层表示空间的维度\n",
    "换句话说就是学习内部表示时网络所允许的自由度\n",
    "\n",
    "如果模型具有更多的隐层单元（更高维度的表示空间）和/或更多层,则可以学习到更复杂的表示\n",
    "\n",
    "'''\n",
    "\n",
    "''' SECTION: 损失函数与优化器\n",
    "\n",
    "一个模型需要损失函数和优化器来进行训练。由于这是一个二分类问题，且模型输出概率值（一个使用sigmoid激活函数的单一单元层），我们将使用binary_crossentropy损失函数\n",
    "\n",
    "binary_crossentropy 更适合处理概率——它能够度量概率分布之间的“距离”，或者在我们的示例中，指的是度量 ground-truth 分布与预测值之间的“距离”。\n",
    "'''\n",
    "\n",
    "# 配置模型来使用优化器和损失函数\n",
    "model.compile(optimizer='adam', loss='binary_crossentropy', metrics=['accuracy'])\n",
    "\n",
    "# SECTION: 创建一个验证集\n",
    "'''\n",
    "在训练时，我们想要检查模型在未见过的数据上的准确率，通过从原始训练数据中分离10000个样本来创建一个验证集\n",
    "（为什么现在不使用测试集？ 我们的目标是只使用训练数据来开发和调整模型，然后只使用一次测试数据来评估模型）\n",
    "\n",
    "\n",
    " 验证集可以用在训练的过程中，一般在训练时，几个epoch结束后跑一次验证集看看效果。(验证得太频繁会影响训练速度)这样做的第一个好处是，可以及时发现模型或者参数的问题，比如模型在验证集上发散啦、出现很奇怪的结果啦(如无穷大)、mAP不增长或者增长很慢啦等等情况，这时可以及时终止训练，重新调参或者调整模型，而不需要等到训练结束。另外一个好处是验证模型的泛化能力，如果在验证集上的效果比训练集上差很多，就该考虑模型是否过拟合了。同时，还可以通过验证集对比不同的模型。在一般的神经网络中， 我们用验证数据集去寻找最优的网络深度（number of hidden layers)，或者决定反向传播算法的停止点或者在神经网络中选择隐藏层神经元的数量；\n",
    "\n",
    "'''\n",
    "\n",
    "x_val = train_data[:10000]\n",
    "partial_x_train = train_data[10000:]\n",
    "\n",
    "y_val = train_labels[:10000]\n",
    "partial_y_train = train_labels[10000:]\n",
    "\n",
    "# SECTION: 训练模型\n",
    "'''\n",
    "以512个样本的mini-batch大小迭代40个epoch来训练模型。\n",
    "这是指对x_train和y_train张量中所有样本的40次迭代\n",
    "\n",
    "在训练过程中，检测来自验证集的10000个样本的损失值和准确率\n",
    "\n",
    "'''\n",
    "history = model.fit(partial_x_train, partial_y_train, epochs=40, batch_size=512, validation_data=(x_val, y_val), verbose=1)\n"
   ],
   "metadata": {
    "collapsed": false
   }
  },
  {
   "cell_type": "code",
   "execution_count": 12,
   "outputs": [
    {
     "name": "stdout",
     "output_type": "stream",
     "text": [
      "782/782 - 1s - loss: 0.3280 - accuracy: 0.8739 - 522ms/epoch - 668us/step\n",
      "[0.32802921533584595, 0.8739200234413147]\n"
     ]
    }
   ],
   "source": [
    "# SECTION\" 评估模型\n",
    "results = model.evaluate(test_data, test_labels, verbose=2)\n",
    "\n",
    "print(results)"
   ],
   "metadata": {
    "collapsed": false
   }
  },
  {
   "cell_type": "code",
   "execution_count": 13,
   "outputs": [
    {
     "data": {
      "text/plain": "dict_keys(['loss', 'accuracy', 'val_loss', 'val_accuracy'])"
     },
     "execution_count": 13,
     "metadata": {},
     "output_type": "execute_result"
    }
   ],
   "source": [
    "# SECTION: 创建一个准确率和损失值随时间变化的图表\n",
    "# model.fit()返回一个history对象，该对象包含一个字典，其中包含训练阶段所发生的一切事件\n",
    "\n",
    "history_dict = history.history\n",
    "history_dict.keys()\n"
   ],
   "metadata": {
    "collapsed": false
   }
  },
  {
   "cell_type": "code",
   "execution_count": 14,
   "outputs": [
    {
     "data": {
      "text/plain": "<Figure size 640x480 with 1 Axes>",
      "image/png": "[encoded data removed]"
     },
     "metadata": {},
     "output_type": "display_data"
    }
   ],
   "source": [
    "'''\n",
    "有四个条目，在训练和验证期间，每个条目对应一个监控指标，我们可以使用这些条目来绘制训练与验证\n",
    "过程的损失值与准确率，以便进行比较\n",
    "\n",
    "'''\n",
    "import matplotlib.pyplot as plt\n",
    "\n",
    "acc = history_dict['accuracy']\n",
    "val_acc = history_dict['val_accuracy']\n",
    "loss = history_dict['loss']\n",
    "val_loss = history_dict['val_loss']\n",
    "\n",
    "epochs = range(1, len(acc) + 1)\n",
    "\n",
    "# \"bo\"代表蓝点， “b”代表蓝色实线\n",
    "plt.plot(epochs, loss, 'bo', label = 'Training loss')\n",
    "plt.plot(epochs, val_loss, 'b', label = 'Validation loss')\n",
    "plt.title('Training and validation loss')\n",
    "plt.xlabel('Epochs')\n",
    "plt.ylabel('Loss')\n",
    "plt.legend() # plt.legend()函数的作用是给图像加图例。\n",
    "\n",
    "plt.show()\n",
    "\n",
    "\n"
   ],
   "metadata": {
    "collapsed": false
   }
  },
  {
   "cell_type": "code",
   "execution_count": 15,
   "outputs": [
    {
     "data": {
      "text/plain": "<Figure size 640x480 with 1 Axes>",
      "image/png": "[encoded data removed]"
     },
     "metadata": {},
     "output_type": "display_data"
    }
   ],
   "source": [
    "plt.clf() # 清除数字\n",
    "plt.plot(epochs, acc, 'bo', label='Training acc')\n",
    "plt.plot(epochs, val_acc, 'b', label='Validation acc')\n",
    "plt.title('Training and validation accuracy')\n",
    "plt.xlabel('Epoch')\n",
    "plt.ylabel('Accuracy')\n",
    "plt.legend()\n",
    "\n",
    "plt.show()"
   ],
   "metadata": {
    "collapsed": false
   }
  },
  {
   "cell_type": "code",
   "execution_count": null,
   "outputs": [],
   "source": [
    "'''\n",
    "训练损失值随每个epoch下降而训练准确率随每个epoch上升，这在使用梯度下降优化时是可预期的\n",
    "\n",
    "验证过程中的损失值与准确率却并非如此，他们似乎在20个epoch后达到顶峰。这是过拟合的一个实例：\n",
    "\n",
    "模型在训练数据上的表现比在以前从为见过的变现要更好，\n",
    "在此之后，模型过度优化并学习特定于训练数据的表示，而不能泛化到测试数据\n",
    "\n",
    "对于这种特殊情况，我们可以通过在20个左右的epoch后停止训练来避免过拟合，\n",
    "\n",
    "'''"
   ],
   "metadata": {
    "collapsed": false
   }
  }
 ],
 "metadata": {
  "kernelspec": {
   "display_name": "Python 3 (ipykernel)",
   "language": "python",
   "name": "python3"
  },
  "language_info": {
   "codemirror_mode": {
    "name": "ipython",
    "version": 3
   },
   "file_extension": ".py",
   "mimetype": "text/x-python",
   "name": "python",
   "nbconvert_exporter": "python",
   "pygments_lexer": "ipython3",
   "version": "3.10.13"
  }
 },
 "nbformat": 4,
 "nbformat_minor": 5
}
