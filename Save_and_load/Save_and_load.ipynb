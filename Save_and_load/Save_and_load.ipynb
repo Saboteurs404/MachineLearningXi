{
 "cells": [
  {
   "cell_type": "markdown",
   "source": [
    "[Toc]\n",
    "\n",
    "\n",
    "# 保存和恢复模型\n",
    "\n",
    "- 配置\n",
    "    - 安装并导入\n",
    "    - 获取实例数据集\n",
    "    - 定义模型\n",
    "- 在训练期间保存模型（以checkpoints形式保存）\n",
    "    - Checkpoint回调用法\n",
    "    - checkpoint回调选项\n",
    "- 这些文件是什么\n",
    "- 手动保存权重\n",
    "- 保存整个模型\n",
    "    - 新的高级.keras格式\n",
    "    - SavedModel格式\n",
    "\n",
    "\n",
    "\n",
    "## 配置\n",
    "\n",
    "### 安装并导入Tensorflow和依赖项\n",
    "\n",
    "```pip\n",
    "pip install pyyaml h5py\n",
    "```\n"
   ],
   "metadata": {
    "collapsed": false
   }
  },
  {
   "cell_type": "code",
   "execution_count": 1,
   "metadata": {
    "collapsed": true
   },
   "outputs": [
    {
     "name": "stdout",
     "output_type": "stream",
     "text": [
      "2.13.0\n"
     ]
    }
   ],
   "source": [
    "import os\n",
    "\n",
    "import tensorflow as tf\n",
    "from tensorflow import keras\n",
    "\n",
    "print(tf.version.VERSION)"
   ]
  },
  {
   "cell_type": "markdown",
   "source": [
    "## 获取实例数据集\n",
    "\n",
    "为了演示如何保存和加载权重，您将使用MNIST数据集，为了加快运行速度，使用前1000个样本"
   ],
   "metadata": {
    "collapsed": false
   }
  },
  {
   "cell_type": "code",
   "execution_count": 2,
   "outputs": [
    {
     "name": "stdout",
     "output_type": "stream",
     "text": [
      "Downloading data from https://storage.googleapis.com/tensorflow/tf-keras-datasets/mnist.npz\n",
      "11490434/11490434 [==============================] - 3s 0us/step\n"
     ]
    }
   ],
   "source": [
    "(train_images, train_labels), (test_images, test_labels) = tf.keras.datasets.mnist.load_data()\n",
    "\n",
    "train_labels = train_labels[:1000]\n",
    "test_labels = test_labels[:1000]\n",
    "\n",
    "train_images = train_images[:1000].reshape(-1, 28*28) / 255.0\n",
    "test_images = test_images[:1000].reshape(-1, 28*28) / 255.0"
   ],
   "metadata": {
    "collapsed": false
   }
  },
  {
   "cell_type": "markdown",
   "source": [
    "### 定义模型\n",
    "\n",
    "首先构建一个简单的序列（sequential）模型"
   ],
   "metadata": {
    "collapsed": false
   }
  },
  {
   "cell_type": "code",
   "execution_count": 3,
   "outputs": [
    {
     "name": "stdout",
     "output_type": "stream",
     "text": [
      "Model: \"sequential\"\n",
      "_________________________________________________________________\n",
      " Layer (type)                Output Shape              Param #   \n",
      "=================================================================\n",
      " dense (Dense)               (None, 512)               401920    \n",
      "                                                                 \n",
      " dropout (Dropout)           (None, 512)               0         \n",
      "                                                                 \n",
      " dense_1 (Dense)             (None, 10)                5130      \n",
      "                                                                 \n",
      "=================================================================\n",
      "Total params: 407050 (1.55 MB)\n",
      "Trainable params: 407050 (1.55 MB)\n",
      "Non-trainable params: 0 (0.00 Byte)\n",
      "_________________________________________________________________\n"
     ]
    }
   ],
   "source": [
    "def create_model():\n",
    "    model = tf.keras.Sequential([\n",
    "        keras.layers.Dense(512, activation='elu', input_shape=(784, )),\n",
    "        keras.layers.Dropout(0.2),\n",
    "        keras.layers.Dense(10)\n",
    "    ])\n",
    "\n",
    "    model.compile(\n",
    "        optimizer='adam',\n",
    "        # from_logits=False表示输出的logits需要经过激活函数的处理，默认为False。\n",
    "        loss=tf.keras.losses.SparseCategoricalCrossentropy(from_logits=True),\n",
    "        metrics=[tf.keras.metrics.SparseCategoricalAccuracy()]\n",
    "    )\n",
    "\n",
    "    return model\n",
    "\n",
    "model = create_model()\n",
    "\n",
    "model.summary()\n"
   ],
   "metadata": {
    "collapsed": false
   }
  },
  {
   "cell_type": "markdown",
   "source": [
    "## 在训练期间保存模型（以Checkpoints形式保存）\n",
    "\n",
    "您可以使用经过训练的模型而无需重新训练，或者在训练过程中中断的情况下从离开处继续训练，tf.keras.callbacks.ModelCheckpoint回调允许您在训练期间和结束时持续保存模型\n",
    "\n",
    "### Check回调用法\n",
    "\n",
    "创建一个旨在训练期间保存权重的tf.keras.callbacks.ModelCheckpoint回调："
   ],
   "metadata": {
    "collapsed": false
   }
  },
  {
   "cell_type": "code",
   "execution_count": 5,
   "outputs": [
    {
     "name": "stdout",
     "output_type": "stream",
     "text": [
      "Epoch 1/10\n",
      "29/32 [==========================>...] - ETA: 0s - loss: 0.0478 - sparse_categorical_accuracy: 0.9968\n",
      "Epoch 1: saving model to ./training-1\\cp.ckpt\n",
      "32/32 [==============================] - 0s 6ms/step - loss: 0.0470 - sparse_categorical_accuracy: 0.9970 - val_loss: 0.5232 - val_sparse_categorical_accuracy: 0.8450\n",
      "Epoch 2/10\n",
      "28/32 [=========================>....] - ETA: 0s - loss: 0.0357 - sparse_categorical_accuracy: 0.9989\n",
      "Epoch 2: saving model to ./training-1\\cp.ckpt\n",
      "32/32 [==============================] - 0s 6ms/step - loss: 0.0384 - sparse_categorical_accuracy: 0.9970 - val_loss: 0.5588 - val_sparse_categorical_accuracy: 0.8380\n",
      "Epoch 3/10\n",
      "26/32 [=======================>......] - ETA: 0s - loss: 0.0394 - sparse_categorical_accuracy: 0.9964\n",
      "Epoch 3: saving model to ./training-1\\cp.ckpt\n",
      "32/32 [==============================] - 0s 6ms/step - loss: 0.0372 - sparse_categorical_accuracy: 0.9970 - val_loss: 0.5912 - val_sparse_categorical_accuracy: 0.8260\n",
      "Epoch 4/10\n",
      "28/32 [=========================>....] - ETA: 0s - loss: 0.0260 - sparse_categorical_accuracy: 1.0000\n",
      "Epoch 4: saving model to ./training-1\\cp.ckpt\n",
      "32/32 [==============================] - 0s 6ms/step - loss: 0.0274 - sparse_categorical_accuracy: 1.0000 - val_loss: 0.5728 - val_sparse_categorical_accuracy: 0.8370\n",
      "Epoch 5/10\n",
      "29/32 [==========================>...] - ETA: 0s - loss: 0.0244 - sparse_categorical_accuracy: 1.0000\n",
      "Epoch 5: saving model to ./training-1\\cp.ckpt\n",
      "32/32 [==============================] - 0s 6ms/step - loss: 0.0248 - sparse_categorical_accuracy: 1.0000 - val_loss: 0.6025 - val_sparse_categorical_accuracy: 0.8300\n",
      "Epoch 6/10\n",
      "25/32 [======================>.......] - ETA: 0s - loss: 0.0202 - sparse_categorical_accuracy: 1.0000\n",
      "Epoch 6: saving model to ./training-1\\cp.ckpt\n",
      "32/32 [==============================] - 0s 6ms/step - loss: 0.0193 - sparse_categorical_accuracy: 1.0000 - val_loss: 0.5838 - val_sparse_categorical_accuracy: 0.8410\n",
      "Epoch 7/10\n",
      "28/32 [=========================>....] - ETA: 0s - loss: 0.0180 - sparse_categorical_accuracy: 1.0000\n",
      "Epoch 7: saving model to ./training-1\\cp.ckpt\n",
      "32/32 [==============================] - 0s 6ms/step - loss: 0.0183 - sparse_categorical_accuracy: 1.0000 - val_loss: 0.6028 - val_sparse_categorical_accuracy: 0.8350\n",
      "Epoch 8/10\n",
      "24/32 [=====================>........] - ETA: 0s - loss: 0.0174 - sparse_categorical_accuracy: 1.0000\n",
      "Epoch 8: saving model to ./training-1\\cp.ckpt\n",
      "32/32 [==============================] - 0s 7ms/step - loss: 0.0180 - sparse_categorical_accuracy: 1.0000 - val_loss: 0.6218 - val_sparse_categorical_accuracy: 0.8310\n",
      "Epoch 9/10\n",
      "29/32 [==========================>...] - ETA: 0s - loss: 0.0145 - sparse_categorical_accuracy: 1.0000\n",
      "Epoch 9: saving model to ./training-1\\cp.ckpt\n",
      "32/32 [==============================] - 0s 6ms/step - loss: 0.0146 - sparse_categorical_accuracy: 1.0000 - val_loss: 0.6091 - val_sparse_categorical_accuracy: 0.8400\n",
      "Epoch 10/10\n",
      "28/32 [=========================>....] - ETA: 0s - loss: 0.0122 - sparse_categorical_accuracy: 1.0000\n",
      "Epoch 10: saving model to ./training-1\\cp.ckpt\n",
      "32/32 [==============================] - 0s 6ms/step - loss: 0.0124 - sparse_categorical_accuracy: 1.0000 - val_loss: 0.6148 - val_sparse_categorical_accuracy: 0.8390\n"
     ]
    },
    {
     "data": {
      "text/plain": "<keras.src.callbacks.History at 0x21b61154040>"
     },
     "execution_count": 5,
     "metadata": {},
     "output_type": "execute_result"
    }
   ],
   "source": [
    "checkpoint_path = \"./training-1/cp.ckpt\"\n",
    "checkpoint_dir = os.path.dirname(checkpoint_path)\n",
    "\n",
    "cp_callback = tf.keras.callbacks.ModelCheckpoint(filepath=checkpoint_path, save_weights_only=True, verbose=1)\n",
    "\n",
    "model.fit(train_images, train_labels, epochs=10, validation_data=(test_images, test_labels), callbacks=[cp_callback])"
   ],
   "metadata": {
    "collapsed": false
   }
  },
  {
   "cell_type": "markdown",
   "source": [
    "这将创建一个Tensorflow checkpoint文件集合，这些文件在每个epoch结束时更新"
   ],
   "metadata": {
    "collapsed": false
   }
  },
  {
   "cell_type": "code",
   "execution_count": 6,
   "outputs": [
    {
     "data": {
      "text/plain": "['checkpoint', 'cp.ckpt.data-00000-of-00001', 'cp.ckpt.index']"
     },
     "execution_count": 6,
     "metadata": {},
     "output_type": "execute_result"
    }
   ],
   "source": [
    "os.listdir(checkpoint_dir)"
   ],
   "metadata": {
    "collapsed": false
   }
  },
  {
   "cell_type": "markdown",
   "source": [
    "只要两个模型共享相同的架构，您就可以在他们之间共享权重，因此当从仅权重恢复模型时，创建一个与原始模型具有相同架构的模型，然后设置其权重\n",
    "\n",
    "现在，重新构建一个未经训练的全新模型并基于测试集对其进行评估，未经训练的模型将以机会水平执行（约10%的准确率）"
   ],
   "metadata": {
    "collapsed": false
   }
  },
  {
   "cell_type": "code",
   "execution_count": 7,
   "outputs": [
    {
     "name": "stdout",
     "output_type": "stream",
     "text": [
      "32/32 - 0s - loss: 2.3298 - sparse_categorical_accuracy: 0.1320 - 83ms/epoch - 3ms/step\n",
      "Untrained model, accuracy: 13.20%\n"
     ]
    }
   ],
   "source": [
    "model = create_model()\n",
    "\n",
    "loss, acc = model.evaluate(test_images, test_labels, verbose=2)\n",
    "\n",
    "print(\"Untrained model, accuracy: {:5.2f}%\".format(100 * acc))"
   ],
   "metadata": {
    "collapsed": false
   }
  },
  {
   "cell_type": "markdown",
   "source": [
    "然后从checkpoint加载权重并重新评估"
   ],
   "metadata": {
    "collapsed": false
   }
  },
  {
   "cell_type": "code",
   "execution_count": 8,
   "outputs": [
    {
     "name": "stdout",
     "output_type": "stream",
     "text": [
      "32/32 - 0s - loss: 0.6148 - sparse_categorical_accuracy: 0.8390 - 38ms/epoch - 1ms/step\n",
      "Untrained model, accuracy: 83.90%\n"
     ]
    }
   ],
   "source": [
    "model.load_weights(checkpoint_path)\n",
    "\n",
    "loss, acc = model.evaluate(test_images, test_labels, verbose=2)\n",
    "\n",
    "print(\"Untrained model, accuracy: {:5.2f}%\".format(100 * acc))"
   ],
   "metadata": {
    "collapsed": false
   }
  },
  {
   "cell_type": "markdown",
   "source": [
    "### checkpoint回调选项\n",
    "\n",
    "回调提供了几个选项，为checkpoint提供唯一名称并调整checkpoint频率\n",
    "\n",
    "训练一个新模型，每五个epochs保存一次唯一命名的checkpoint"
   ],
   "metadata": {
    "collapsed": false
   }
  },
  {
   "cell_type": "code",
   "execution_count": 9,
   "outputs": [
    {
     "name": "stdout",
     "output_type": "stream",
     "text": [
      "\n",
      "Epoch 5: saving model to ./training-2\\cp-0005.ckpt\n",
      "\n",
      "Epoch 10: saving model to ./training-2\\cp-0010.ckpt\n",
      "\n",
      "Epoch 15: saving model to ./training-2\\cp-0015.ckpt\n",
      "\n",
      "Epoch 20: saving model to ./training-2\\cp-0020.ckpt\n",
      "\n",
      "Epoch 25: saving model to ./training-2\\cp-0025.ckpt\n",
      "\n",
      "Epoch 30: saving model to ./training-2\\cp-0030.ckpt\n",
      "\n",
      "Epoch 35: saving model to ./training-2\\cp-0035.ckpt\n",
      "\n",
      "Epoch 40: saving model to ./training-2\\cp-0040.ckpt\n",
      "\n",
      "Epoch 45: saving model to ./training-2\\cp-0045.ckpt\n",
      "\n",
      "Epoch 50: saving model to ./training-2\\cp-0050.ckpt\n"
     ]
    },
    {
     "data": {
      "text/plain": "<keras.src.callbacks.History at 0x21b61256650>"
     },
     "execution_count": 9,
     "metadata": {},
     "output_type": "execute_result"
    }
   ],
   "source": [
    "checkpoint_path = \"./training-2/cp-{epoch:04d}.ckpt\"\n",
    "checkpoint_dir = os.path.dirname(checkpoint_path)\n",
    "\n",
    "batch_size = 32\n",
    "\n",
    "import math\n",
    "n_batches = len(train_images) / batch_size\n",
    "n_batches = math.ceil(n_batches)  # 舍弃小数部分。向整数部分进1\n",
    "\n",
    "cp_callback = tf.keras.callbacks.ModelCheckpoint(\n",
    "    filepath=checkpoint_path,\n",
    "    verbose=1,\n",
    "    save_weights_only=True,\n",
    "    save_freq=5*n_batches\n",
    ")\n",
    "\n",
    "model = create_model()\n",
    "\n",
    "model.save_weights(checkpoint_path.format(epoch=0))\n",
    "# batch_size: 批次寸，即训练一次网络所用的样本数\n",
    "model.fit(train_images, train_labels, epochs=50, batch_size=batch_size, callbacks=[cp_callback], validation_data=(test_images, test_labels), verbose=0)"
   ],
   "metadata": {
    "collapsed": false
   }
  },
  {
   "cell_type": "markdown",
   "source": [
    "现在，检查生成的检查点并选择最新检查点"
   ],
   "metadata": {
    "collapsed": false
   }
  },
  {
   "cell_type": "code",
   "execution_count": 10,
   "outputs": [
    {
     "data": {
      "text/plain": "['checkpoint',\n 'cp-0000.ckpt.data-00000-of-00001',\n 'cp-0000.ckpt.index',\n 'cp-0005.ckpt.data-00000-of-00001',\n 'cp-0005.ckpt.index',\n 'cp-0010.ckpt.data-00000-of-00001',\n 'cp-0010.ckpt.index',\n 'cp-0015.ckpt.data-00000-of-00001',\n 'cp-0015.ckpt.index',\n 'cp-0020.ckpt.data-00000-of-00001',\n 'cp-0020.ckpt.index',\n 'cp-0025.ckpt.data-00000-of-00001',\n 'cp-0025.ckpt.index',\n 'cp-0030.ckpt.data-00000-of-00001',\n 'cp-0030.ckpt.index',\n 'cp-0035.ckpt.data-00000-of-00001',\n 'cp-0035.ckpt.index',\n 'cp-0040.ckpt.data-00000-of-00001',\n 'cp-0040.ckpt.index',\n 'cp-0045.ckpt.data-00000-of-00001',\n 'cp-0045.ckpt.index',\n 'cp-0050.ckpt.data-00000-of-00001',\n 'cp-0050.ckpt.index']"
     },
     "execution_count": 10,
     "metadata": {},
     "output_type": "execute_result"
    }
   ],
   "source": [
    "os.listdir(checkpoint_dir)"
   ],
   "metadata": {
    "collapsed": false
   }
  },
  {
   "cell_type": "code",
   "execution_count": 12,
   "outputs": [
    {
     "data": {
      "text/plain": "'./training-2\\\\cp-0050.ckpt'"
     },
     "execution_count": 12,
     "metadata": {},
     "output_type": "execute_result"
    }
   ],
   "source": [
    "latest = tf.train.latest_checkpoint(checkpoint_dir)\n",
    "latest"
   ],
   "metadata": {
    "collapsed": false
   }
  },
  {
   "cell_type": "markdown",
   "source": [
    "注：默认Tensorflow格式只保存最近5个检查点，\n",
    "要进行测试，请重置模型并加载最新检查点"
   ],
   "metadata": {
    "collapsed": false
   }
  },
  {
   "cell_type": "code",
   "execution_count": 13,
   "outputs": [
    {
     "name": "stdout",
     "output_type": "stream",
     "text": [
      "32/32 - 0s - loss: 0.7872 - sparse_categorical_accuracy: 0.8380 - 87ms/epoch - 3ms/step\n",
      "Restored model, accuracy: 83.80%\n"
     ]
    }
   ],
   "source": [
    "model = create_model()\n",
    "\n",
    "model.load_weights(latest)\n",
    "\n",
    "loss, acc = model.evaluate(test_images, test_labels, verbose=2)\n",
    "print(\"Restored model, accuracy: {:5.2f}%\".format(100 * acc))"
   ],
   "metadata": {
    "collapsed": false
   }
  },
  {
   "cell_type": "markdown",
   "source": [
    "## 这些文件是什么？\n",
    "\n",
    "上述代码可将权重存储到检查点格式文件（仅包含二进制格式训练权重）的合集中\n",
    "\n",
    "检查点包含：\n",
    "- 一个或多个模型权重的分片\n",
    "- 一个索引文件，指示哪些权重存储在哪个分片中\n",
    "\n",
    "如果您在一台计算机上训练模型，您将获得一个具有如下后缀的分片：data-00000-of-00001\n",
    "\n",
    "## 手动保存权重\n",
    "\n",
    "要手动保存权重，请使用tf.keras.Model.save-weights"
   ],
   "metadata": {
    "collapsed": false
   }
  },
  {
   "cell_type": "code",
   "execution_count": 14,
   "outputs": [
    {
     "name": "stdout",
     "output_type": "stream",
     "text": [
      "32/32 - 0s - loss: 0.7872 - sparse_categorical_accuracy: 0.8380 - 91ms/epoch - 3ms/step\n",
      "Restored model, accuracy: 83.80%\n"
     ]
    }
   ],
   "source": [
    "model.save_weights('./checkpoints/my_checkpoint')\n",
    "\n",
    "model = create_model()\n",
    "\n",
    "model.load_weights('./checkpoints/my_checkpoint')\n",
    "\n",
    "loss, acc = model.evaluate(test_images, test_labels, verbose=2)\n",
    "print(\"Restored model, accuracy: {:5.2f}%\".format(100 * acc))"
   ],
   "metadata": {
    "collapsed": false
   }
  },
  {
   "cell_type": "markdown",
   "source": [
    "## 保存整个模型\n",
    "\n",
    "**调用tf.keras.Model.save,将模型的架构，权重和训练配置保存在单个model.keras zip存档中**\n",
    "\n",
    "整个模型可以保存为三种不同的文件格式（新的 .keras 格式和两种旧格式：SavedModel 和 HDF5）。将模型保存为 path/to/model.keras 会自动以最新格式保存。\n",
    "\n",
    "保存功能齐全的模型非常有用 - 您可以将它们加载到 TensorFlow.js（SavedModel，HDF5）中，然后在 Web 浏览器中训练和运行它们，或者使用 TensorFlow Lite（保存的模型，HDF5）将它们转换为在移动设备上运行）"
   ],
   "metadata": {
    "collapsed": false
   }
  },
  {
   "cell_type": "code",
   "execution_count": 15,
   "outputs": [
    {
     "name": "stdout",
     "output_type": "stream",
     "text": [
      "Epoch 1/5\n",
      "32/32 [==============================] - 0s 4ms/step - loss: 1.0101 - sparse_categorical_accuracy: 0.7100\n",
      "Epoch 2/5\n",
      "32/32 [==============================] - 0s 4ms/step - loss: 0.4020 - sparse_categorical_accuracy: 0.8870\n",
      "Epoch 3/5\n",
      "32/32 [==============================] - 0s 5ms/step - loss: 0.2789 - sparse_categorical_accuracy: 0.9290\n",
      "Epoch 4/5\n",
      "32/32 [==============================] - 0s 5ms/step - loss: 0.2227 - sparse_categorical_accuracy: 0.9400\n",
      "Epoch 5/5\n",
      "32/32 [==============================] - 0s 5ms/step - loss: 0.1676 - sparse_categorical_accuracy: 0.9640\n"
     ]
    }
   ],
   "source": [
    "model = create_model()\n",
    "\n",
    "model.fit(train_images, train_labels, epochs=5)\n",
    "\n",
    "model.save('./my_model.keras')"
   ],
   "metadata": {
    "collapsed": false
   }
  },
  {
   "cell_type": "markdown",
   "source": [
    "从.keras zip归档重新加载新的keras模型"
   ],
   "metadata": {
    "collapsed": false
   }
  },
  {
   "cell_type": "code",
   "execution_count": 16,
   "outputs": [
    {
     "name": "stdout",
     "output_type": "stream",
     "text": [
      "Model: \"sequential_5\"\n",
      "_________________________________________________________________\n",
      " Layer (type)                Output Shape              Param #   \n",
      "=================================================================\n",
      " dense_10 (Dense)            (None, 512)               401920    \n",
      "                                                                 \n",
      " dropout_5 (Dropout)         (None, 512)               0         \n",
      "                                                                 \n",
      " dense_11 (Dense)            (None, 10)                5130      \n",
      "                                                                 \n",
      "=================================================================\n",
      "Total params: 407050 (1.55 MB)\n",
      "Trainable params: 407050 (1.55 MB)\n",
      "Non-trainable params: 0 (0.00 Byte)\n",
      "_________________________________________________________________\n"
     ]
    }
   ],
   "source": [
    "new_model = tf.keras.models.load_model('./my_model.keras')\n",
    "\n",
    "new_model.summary()"
   ],
   "metadata": {
    "collapsed": false
   }
  },
  {
   "cell_type": "markdown",
   "source": [
    "尝试使用加载的模型运行评估个预测"
   ],
   "metadata": {
    "collapsed": false
   }
  },
  {
   "cell_type": "code",
   "execution_count": 17,
   "outputs": [
    {
     "name": "stdout",
     "output_type": "stream",
     "text": [
      "32/32 - 0s - loss: 0.4907 - sparse_categorical_accuracy: 0.8460 - 80ms/epoch - 3ms/step\n",
      "Restored model, accuracy:84.60\n",
      "32/32 [==============================] - 0s 793us/step\n",
      "(1000, 10)\n"
     ]
    }
   ],
   "source": [
    "loss, acc = new_model.evaluate(test_images, test_labels, verbose=2)\n",
    "\n",
    "print('Restored model, accuracy:{:5.2f}'.format(100*acc))\n",
    "\n",
    "print(new_model.predict(test_images).shape)"
   ],
   "metadata": {
    "collapsed": false
   }
  },
  {
   "cell_type": "markdown",
   "source": [
    "### SavedModel格式\n",
    "\n",
    "SavedModel格式是另一种序列化模型的方式，以这种格式保存的模型可以使用tf.keras.models.load_model还原， 并且与Tensorflow Serving兼容"
   ],
   "metadata": {
    "collapsed": false
   }
  },
  {
   "cell_type": "code",
   "execution_count": 18,
   "outputs": [
    {
     "name": "stdout",
     "output_type": "stream",
     "text": [
      "Epoch 1/5\n",
      "32/32 [==============================] - 0s 4ms/step - loss: 1.0113 - sparse_categorical_accuracy: 0.7160\n",
      "Epoch 2/5\n",
      "32/32 [==============================] - 0s 5ms/step - loss: 0.4069 - sparse_categorical_accuracy: 0.8730\n",
      "Epoch 3/5\n",
      "32/32 [==============================] - 0s 5ms/step - loss: 0.3010 - sparse_categorical_accuracy: 0.9180\n",
      "Epoch 4/5\n",
      "32/32 [==============================] - 0s 5ms/step - loss: 0.2338 - sparse_categorical_accuracy: 0.9400\n",
      "Epoch 5/5\n",
      "32/32 [==============================] - 0s 5ms/step - loss: 0.1846 - sparse_categorical_accuracy: 0.9450\n",
      "INFO:tensorflow:Assets written to: ./saved_model/my_model\\assets\n"
     ]
    },
    {
     "name": "stderr",
     "output_type": "stream",
     "text": [
      "INFO:tensorflow:Assets written to: ./saved_model/my_model\\assets\n"
     ]
    }
   ],
   "source": [
    "model = create_model()\n",
    "model.fit(train_images, train_labels, epochs=5)\n",
    "\n",
    "!mkdir -p saved_model\n",
    "model.save('./saved_model/my_model')"
   ],
   "metadata": {
    "collapsed": false
   }
  }
 ],
 "metadata": {
  "kernelspec": {
   "display_name": "Python 3",
   "language": "python",
   "name": "python3"
  },
  "language_info": {
   "codemirror_mode": {
    "name": "ipython",
    "version": 2
   },
   "file_extension": ".py",
   "mimetype": "text/x-python",
   "name": "python",
   "nbconvert_exporter": "python",
   "pygments_lexer": "ipython2",
   "version": "2.7.6"
  }
 },
 "nbformat": 4,
 "nbformat_minor": 0
}
