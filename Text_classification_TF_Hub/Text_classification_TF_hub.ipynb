{
 "cells": [
  {
   "cell_type": "code",
   "execution_count": 2,
   "metadata": {
    "collapsed": true
   },
   "outputs": [
    {
     "name": "stderr",
     "output_type": "stream",
     "text": [
      "E:\\LocalRepository\\Anaconda3_envs\\deeplearning\\lib\\site-packages\\tqdm\\auto.py:21: TqdmWarning: IProgress not found. Please update jupyter and ipywidgets. See https://ipywidgets.readthedocs.io/en/stable/user_install.html\n",
      "  from .autonotebook import tqdm as notebook_tqdm\n"
     ]
    },
    {
     "name": "stdout",
     "output_type": "stream",
     "text": [
      "Version: 2.13.0\n",
      "Eager mode: True\n",
      "Hub version: 0.15.0\n",
      "GPU is NOT AVAILABLE\n"
     ]
    }
   ],
   "source": [
    "''' 任务：\n",
    "演示Tensorflow Hub和keras进行迁移学习的基本应用\n",
    "\n",
    "使用包含 Internet Movie Database 中的 50,000 条电影评论文本的 IMDB 数据集。先将这些评论分为两组，其中 25,000 条用于训练，另外 25,000 条用于测试。训练组和测试组是均衡的，也就是说其中包含相等数量的正面评价和负面评价。\n",
    "\n",
    "下载IMDB 数据集\n",
    "探索数据\n",
    "构建模型\n",
    "    损失函数与优化器\n",
    "训练模型\n",
    "评估模型\n",
    "进一步阅读\n",
    "\n",
    "使用 tf.keras（一个在 TensorFlow 中用于构建和训练模型的高级 API）和 tensorflow_hub（一个用于在一行代码中从 TFHub 加载训练模型的库）。\n",
    "'''\n",
    "\n",
    "import os\n",
    "import numpy as np\n",
    "\n",
    "import tensorflow as tf\n",
    "import tensorflow_hub as hub\n",
    "import tensorflow_datasets as tfds\n",
    "\n",
    "print(\"Version:\", tf.__version__)\n",
    "print(\"Eager mode:\", tf.executing_eagerly())\n",
    "print(\"Hub version:\", hub.__version__)\n",
    "print(\"GPU is\", \"available\" if tf.config.list_physical_devices(\"GPU\") else \"NOT AVAILABLE\")\n"
   ]
  },
  {
   "cell_type": "code",
   "execution_count": 3,
   "outputs": [
    {
     "name": "stdout",
     "output_type": "stream",
     "text": [
      "\u001B[1mDownloading and preparing dataset Unknown size (download: Unknown size, generated: Unknown size, total: Unknown size) to C:\\Users\\17828\\tensorflow_datasets\\imdb_reviews\\plain_text\\1.0.0...\u001B[0m\n"
     ]
    },
    {
     "name": "stderr",
     "output_type": "stream",
     "text": [
      "Dl Completed...: 0 url [00:00, ? url/s]\n",
      "Dl Completed...:   0%|          | 0/1 [00:00<?, ? url/s]\n",
      "Dl Completed...:   0%|          | 0/1 [00:00<?, ? url/s]\n",
      "Dl Size...:   0%|          | 0/80 [00:00<?, ? MiB/s]\u001B[A\n",
      "Dl Completed...:   0%|          | 0/1 [00:16<?, ? url/s]MiB]\u001B[A\n",
      "Dl Size...:   1%|▏         | 1/80 [00:16<22:16, 16.92s/ MiB]\u001B[A\n",
      "Dl Completed...:   0%|          | 0/1 [00:30<?, ? url/s]MiB]\u001B[A\n",
      "Dl Size...:   2%|▎         | 2/80 [00:30<19:12, 14.78s/ MiB]\u001B[A\n",
      "Dl Completed...:   0%|          | 0/1 [00:40<?, ? url/s]MiB]\u001B[A\n",
      "Dl Size...:   4%|▍         | 3/80 [00:40<16:09, 12.59s/ MiB]\u001B[A\n",
      "Dl Completed...:   0%|          | 0/1 [00:48<?, ? url/s]MiB]\u001B[A\n",
      "Dl Size...:   5%|▌         | 4/80 [00:48<13:45, 10.86s/ MiB]\u001B[A\n",
      "Dl Completed...:   0%|          | 0/1 [01:03<?, ? url/s]MiB]\u001B[A\n",
      "Dl Size...:   6%|▋         | 5/80 [01:03<15:36, 12.49s/ MiB]\u001B[A\n",
      "Dl Completed...:   0%|          | 0/1 [01:12<?, ? url/s]MiB]\u001B[A\n",
      "Dl Size...:   8%|▊         | 6/80 [01:12<13:59, 11.34s/ MiB]\u001B[A\n",
      "Dl Completed...:   0%|          | 0/1 [01:19<?, ? url/s]MiB]\u001B[A\n",
      "Dl Size...:   9%|▉         | 7/80 [01:19<12:06,  9.95s/ MiB]\u001B[A\n",
      "Dl Completed...:   0%|          | 0/1 [01:32<?, ? url/s]MiB]\u001B[A\n",
      "Dl Size...:  10%|█         | 8/80 [01:32<12:55, 10.77s/ MiB]\u001B[A\n",
      "Dl Completed...:   0%|          | 0/1 [01:44<?, ? url/s]MiB]\u001B[A\n",
      "Dl Size...:  11%|█▏        | 9/80 [01:44<13:14, 11.19s/ MiB]\u001B[A\n",
      "Dl Completed...:   0%|          | 0/1 [02:00<?, ? url/s] MiB]\u001B[A\n",
      "Dl Size...:  12%|█▎        | 10/80 [02:00<14:35, 12.51s/ MiB]\u001B[A\n",
      "Dl Completed...:   0%|          | 0/1 [02:13<?, ? url/s] MiB]\u001B[A\n",
      "Dl Size...:  14%|█▍        | 11/80 [02:13<14:53, 12.95s/ MiB]\u001B[A\n",
      "Dl Completed...:   0%|          | 0/1 [02:23<?, ? url/s] MiB]\u001B[A\n",
      "Dl Size...:  15%|█▌        | 12/80 [02:23<13:18, 11.75s/ MiB]\u001B[A\n",
      "Dl Completed...:   0%|          | 0/1 [02:37<?, ? url/s] MiB]\u001B[A\n",
      "Dl Size...:  16%|█▋        | 13/80 [02:37<13:59, 12.53s/ MiB]\u001B[A\n",
      "Dl Completed...:   0%|          | 0/1 [02:44<?, ? url/s] MiB]\u001B[A\n",
      "Dl Size...:  18%|█▊        | 14/80 [02:44<11:57, 10.87s/ MiB]\u001B[A\n",
      "Dl Completed...:   0%|          | 0/1 [02:52<?, ? url/s] MiB]\u001B[A\n",
      "Dl Size...:  19%|█▉        | 15/80 [02:52<10:44,  9.92s/ MiB]\u001B[A\n",
      "Dl Completed...:   0%|          | 0/1 [03:05<?, ? url/s] MiB]\u001B[A\n",
      "Dl Size...:  20%|██        | 16/80 [03:05<11:39, 10.93s/ MiB]\u001B[A\n",
      "Dl Completed...:   0%|          | 0/1 [03:17<?, ? url/s] MiB]\u001B[A\n",
      "Dl Size...:  21%|██▏       | 17/80 [03:17<11:47, 11.23s/ MiB]\u001B[A\n",
      "Dl Completed...:   0%|          | 0/1 [03:27<?, ? url/s] MiB]\u001B[A\n",
      "Dl Size...:  22%|██▎       | 18/80 [03:27<11:08, 10.79s/ MiB]\u001B[A\n",
      "Dl Completed...:   0%|          | 0/1 [03:37<?, ? url/s] MiB]\u001B[A\n",
      "Dl Size...:  24%|██▍       | 19/80 [03:37<10:44, 10.57s/ MiB]\u001B[A\n",
      "Dl Completed...:   0%|          | 0/1 [03:44<?, ? url/s] MiB]\u001B[A\n",
      "Dl Size...:  25%|██▌       | 20/80 [03:44<09:32,  9.54s/ MiB]\u001B[A\n",
      "Dl Completed...:   0%|          | 0/1 [03:55<?, ? url/s] MiB]\u001B[A\n",
      "Dl Size...:  26%|██▋       | 21/80 [03:55<09:51, 10.03s/ MiB]\u001B[A\n",
      "Dl Completed...:   0%|          | 0/1 [03:59<?, ? url/s] MiB]\u001B[A\n",
      "Dl Size...:  28%|██▊       | 22/80 [03:59<07:54,  8.17s/ MiB]\u001B[A\n",
      "Dl Completed...:   0%|          | 0/1 [04:06<?, ? url/s] MiB]\u001B[A\n",
      "Dl Size...:  29%|██▉       | 23/80 [04:06<07:23,  7.78s/ MiB]\u001B[A\n",
      "Dl Completed...:   0%|          | 0/1 [04:10<?, ? url/s] MiB]\u001B[A\n",
      "Dl Size...:  30%|███       | 24/80 [04:10<06:19,  6.77s/ MiB]\u001B[A\n",
      "Dl Completed...:   0%|          | 0/1 [04:16<?, ? url/s] MiB]\u001B[A\n",
      "Dl Size...:  31%|███▏      | 25/80 [04:16<06:05,  6.65s/ MiB]\u001B[A\n",
      "Dl Completed...:   0%|          | 0/1 [04:26<?, ? url/s] MiB]\u001B[A\n",
      "Dl Size...:  32%|███▎      | 26/80 [04:26<06:41,  7.44s/ MiB]\u001B[A\n",
      "Dl Completed...:   0%|          | 0/1 [04:39<?, ? url/s] MiB]\u001B[A\n",
      "Dl Size...:  34%|███▍      | 27/80 [04:39<08:07,  9.20s/ MiB]\u001B[A\n",
      "Dl Completed...:   0%|          | 0/1 [04:50<?, ? url/s] MiB]\u001B[A\n",
      "Dl Size...:  35%|███▌      | 28/80 [04:50<08:27,  9.76s/ MiB]\u001B[A\n",
      "Dl Completed...:   0%|          | 0/1 [04:58<?, ? url/s] MiB]\u001B[A\n",
      "Dl Size...:  36%|███▋      | 29/80 [04:58<07:50,  9.22s/ MiB]\u001B[A\n",
      "Dl Completed...:   0%|          | 0/1 [05:04<?, ? url/s] MiB]\u001B[A\n",
      "Dl Size...:  38%|███▊      | 30/80 [05:04<06:55,  8.30s/ MiB]\u001B[A\n",
      "Dl Completed...:   0%|          | 0/1 [05:10<?, ? url/s] MiB]\u001B[A\n",
      "Dl Size...:  39%|███▉      | 31/80 [05:10<06:09,  7.54s/ MiB]\u001B[A\n",
      "Dl Completed...:   0%|          | 0/1 [05:16<?, ? url/s] MiB]\u001B[A\n",
      "Dl Size...:  40%|████      | 32/80 [05:16<05:38,  7.05s/ MiB]\u001B[A\n",
      "Dl Completed...:   0%|          | 0/1 [05:19<?, ? url/s] MiB]\u001B[A\n",
      "Dl Size...:  41%|████▏     | 33/80 [05:19<04:39,  5.95s/ MiB]\u001B[A\n",
      "Dl Completed...:   0%|          | 0/1 [05:24<?, ? url/s] MiB]\u001B[A\n",
      "Dl Size...:  42%|████▎     | 34/80 [05:24<04:11,  5.46s/ MiB]\u001B[A\n",
      "Dl Completed...:   0%|          | 0/1 [05:29<?, ? url/s] MiB]\u001B[A\n",
      "Dl Size...:  44%|████▍     | 35/80 [05:29<04:05,  5.46s/ MiB]\u001B[A\n",
      "Dl Completed...:   0%|          | 0/1 [05:43<?, ? url/s] MiB]\u001B[A\n",
      "Dl Size...:  45%|████▌     | 36/80 [05:43<05:54,  8.05s/ MiB]\u001B[A\n",
      "Dl Completed...:   0%|          | 0/1 [05:51<?, ? url/s] MiB]\u001B[A\n",
      "Dl Size...:  46%|████▋     | 37/80 [05:51<05:45,  8.04s/ MiB]\u001B[A\n",
      "Dl Completed...:   0%|          | 0/1 [06:01<?, ? url/s] MiB]\u001B[A\n",
      "Dl Size...:  48%|████▊     | 38/80 [06:01<05:55,  8.46s/ MiB]\u001B[A\n",
      "Dl Completed...:   0%|          | 0/1 [06:06<?, ? url/s] MiB]\u001B[A\n",
      "Dl Size...:  49%|████▉     | 39/80 [06:06<05:15,  7.70s/ MiB]\u001B[A\n",
      "Dl Completed...:   0%|          | 0/1 [06:13<?, ? url/s] MiB]\u001B[A\n",
      "Dl Size...:  50%|█████     | 40/80 [06:13<04:52,  7.31s/ MiB]\u001B[A\n",
      "Dl Completed...:   0%|          | 0/1 [06:23<?, ? url/s] MiB]\u001B[A\n",
      "Dl Size...:  51%|█████▏    | 41/80 [06:23<05:12,  8.02s/ MiB]\u001B[A\n",
      "Dl Completed...:   0%|          | 0/1 [06:31<?, ? url/s] MiB]\u001B[A\n",
      "Dl Size...:  52%|█████▎    | 42/80 [06:31<05:13,  8.25s/ MiB]\u001B[A\n",
      "Dl Completed...:   0%|          | 0/1 [06:46<?, ? url/s] MiB]\u001B[A\n",
      "Dl Size...:  54%|█████▍    | 43/80 [06:46<06:20, 10.28s/ MiB]\u001B[A\n",
      "Dl Completed...:   0%|          | 0/1 [06:56<?, ? url/s] MiB]\u001B[A\n",
      "Dl Size...:  55%|█████▌    | 44/80 [06:56<06:03, 10.10s/ MiB]\u001B[A\n",
      "Dl Completed...:   0%|          | 0/1 [07:03<?, ? url/s] MiB]\u001B[A\n",
      "Dl Size...:  56%|█████▋    | 45/80 [07:03<05:24,  9.27s/ MiB]\u001B[A\n",
      "Dl Completed...:   0%|          | 0/1 [07:15<?, ? url/s] MiB]\u001B[A\n",
      "Dl Size...:  57%|█████▊    | 46/80 [07:15<05:34,  9.85s/ MiB]\u001B[A\n",
      "Dl Completed...:   0%|          | 0/1 [07:26<?, ? url/s] MiB]\u001B[A\n",
      "Dl Size...:  59%|█████▉    | 47/80 [07:26<05:43, 10.41s/ MiB]\u001B[A\n",
      "Dl Completed...:   0%|          | 0/1 [07:42<?, ? url/s] MiB]\u001B[A\n",
      "Dl Size...:  60%|██████    | 48/80 [07:42<06:27, 12.12s/ MiB]\u001B[A\n",
      "Dl Completed...:   0%|          | 0/1 [07:49<?, ? url/s] MiB]\u001B[A\n",
      "Dl Size...:  61%|██████▏   | 49/80 [07:49<05:25, 10.49s/ MiB]\u001B[A\n",
      "Dl Completed...:   0%|          | 0/1 [07:57<?, ? url/s] MiB]\u001B[A\n",
      "Dl Size...:  62%|██████▎   | 50/80 [07:57<04:52,  9.74s/ MiB]\u001B[A\n",
      "Dl Completed...:   0%|          | 0/1 [08:04<?, ? url/s] MiB]\u001B[A\n",
      "Dl Size...:  64%|██████▍   | 51/80 [08:04<04:20,  8.98s/ MiB]\u001B[A\n",
      "Dl Completed...:   0%|          | 0/1 [08:14<?, ? url/s] MiB]\u001B[A\n",
      "Dl Size...:  65%|██████▌   | 52/80 [08:14<04:14,  9.09s/ MiB]\u001B[A\n",
      "Dl Completed...:   0%|          | 0/1 [08:23<?, ? url/s] MiB]\u001B[A\n",
      "Dl Size...:  66%|██████▋   | 53/80 [08:23<04:06,  9.13s/ MiB]\u001B[A\n",
      "Dl Completed...:   0%|          | 0/1 [08:39<?, ? url/s] MiB]\u001B[A\n",
      "Dl Size...:  68%|██████▊   | 54/80 [08:39<04:55, 11.36s/ MiB]\u001B[A\n",
      "Dl Completed...:   0%|          | 0/1 [08:59<?, ? url/s] MiB]\u001B[A\n",
      "Dl Size...:  69%|██████▉   | 55/80 [08:59<05:42, 13.69s/ MiB]\u001B[A\n",
      "Dl Completed...:   0%|          | 0/1 [09:12<?, ? url/s] MiB]\u001B[A\n",
      "Dl Size...:  70%|███████   | 56/80 [09:12<05:28, 13.70s/ MiB]\u001B[A\n",
      "Dl Completed...:   0%|          | 0/1 [09:28<?, ? url/s] MiB]\u001B[A\n",
      "Dl Size...:  71%|███████▏  | 57/80 [09:28<05:32, 14.44s/ MiB]\u001B[A\n",
      "Dl Completed...:   0%|          | 0/1 [09:38<?, ? url/s] MiB]\u001B[A\n",
      "Dl Size...:  72%|███████▎  | 58/80 [09:38<04:46, 13.04s/ MiB]\u001B[A\n",
      "Dl Completed...:   0%|          | 0/1 [09:48<?, ? url/s] MiB]\u001B[A\n",
      "Dl Size...:  74%|███████▍  | 59/80 [09:48<04:14, 12.10s/ MiB]\u001B[A\n",
      "Dl Completed...:   0%|          | 0/1 [09:58<?, ? url/s] MiB]\u001B[A\n",
      "Dl Size...:  75%|███████▌  | 60/80 [09:58<03:46, 11.32s/ MiB]\u001B[A\n",
      "Dl Completed...:   0%|          | 0/1 [10:11<?, ? url/s] MiB]\u001B[A\n",
      "Dl Size...:  76%|███████▋  | 61/80 [10:11<03:46, 11.94s/ MiB]\u001B[A\n",
      "Dl Completed...:   0%|          | 0/1 [10:22<?, ? url/s] MiB]\u001B[A\n",
      "Dl Size...:  78%|███████▊  | 62/80 [10:22<03:28, 11.58s/ MiB]\u001B[A\n",
      "Dl Completed...:   0%|          | 0/1 [10:35<?, ? url/s] MiB]\u001B[A\n",
      "Dl Size...:  79%|███████▉  | 63/80 [10:35<03:24, 12.05s/ MiB]\u001B[A\n",
      "Dl Completed...:   0%|          | 0/1 [10:46<?, ? url/s] MiB]\u001B[A\n",
      "Dl Size...:  80%|████████  | 64/80 [10:46<03:08, 11.75s/ MiB]\u001B[A\n",
      "Dl Completed...:   0%|          | 0/1 [10:54<?, ? url/s] MiB]\u001B[A\n",
      "Dl Size...:  81%|████████▏ | 65/80 [10:54<02:40, 10.68s/ MiB]\u001B[A\n",
      "Dl Completed...:   0%|          | 0/1 [11:05<?, ? url/s] MiB]\u001B[A\n",
      "Dl Size...:  82%|████████▎ | 66/80 [11:05<02:28, 10.61s/ MiB]\u001B[A\n",
      "Dl Completed...:   0%|          | 0/1 [11:16<?, ? url/s] MiB]\u001B[A\n",
      "Dl Size...:  84%|████████▍ | 67/80 [11:16<02:19, 10.75s/ MiB]\u001B[A\n",
      "Dl Completed...:   0%|          | 0/1 [11:24<?, ? url/s] MiB]\u001B[A\n",
      "Dl Size...:  85%|████████▌ | 68/80 [11:24<02:01, 10.11s/ MiB]\u001B[A\n",
      "Dl Completed...:   0%|          | 0/1 [11:30<?, ? url/s] MiB]\u001B[A\n",
      "Dl Size...:  86%|████████▋ | 69/80 [11:30<01:35,  8.72s/ MiB]\u001B[A\n",
      "Dl Completed...:   0%|          | 0/1 [11:36<?, ? url/s] MiB]\u001B[A\n",
      "Dl Size...:  88%|████████▊ | 70/80 [11:36<01:20,  8.04s/ MiB]\u001B[A\n",
      "Dl Completed...:   0%|          | 0/1 [11:46<?, ? url/s] MiB]\u001B[A\n",
      "Dl Size...:  89%|████████▉ | 71/80 [11:46<01:17,  8.60s/ MiB]\u001B[A\n",
      "Dl Completed...:   0%|          | 0/1 [11:56<?, ? url/s] MiB]\u001B[A\n",
      "Dl Size...:  90%|█████████ | 72/80 [11:56<01:12,  9.06s/ MiB]\u001B[A\n",
      "Dl Completed...:   0%|          | 0/1 [12:08<?, ? url/s] MiB]\u001B[A\n",
      "Dl Size...:  91%|█████████▏| 73/80 [12:08<01:08,  9.85s/ MiB]\u001B[A\n",
      "Dl Completed...:   0%|          | 0/1 [12:26<?, ? url/s] MiB]\u001B[A\n",
      "Dl Size...:  92%|█████████▎| 74/80 [12:26<01:14, 12.33s/ MiB]\u001B[A\n",
      "Dl Completed...:   0%|          | 0/1 [12:38<?, ? url/s] MiB]\u001B[A\n",
      "Dl Size...:  94%|█████████▍| 75/80 [12:38<01:01, 12.27s/ MiB]\u001B[A\n",
      "Dl Completed...:   0%|          | 0/1 [12:48<?, ? url/s] MiB]\u001B[A\n",
      "Dl Size...:  95%|█████████▌| 76/80 [12:48<00:46, 11.54s/ MiB]\u001B[A\n",
      "Dl Completed...:   0%|          | 0/1 [12:58<?, ? url/s] MiB]\u001B[A\n",
      "Dl Size...:  96%|█████████▋| 77/80 [12:58<00:33, 11.21s/ MiB]\u001B[A\n",
      "Dl Completed...:   0%|          | 0/1 [13:10<?, ? url/s] MiB]\u001B[A\n",
      "Dl Size...:  98%|█████████▊| 78/80 [13:10<00:22, 11.39s/ MiB]\u001B[A\n",
      "Dl Completed...:   0%|          | 0/1 [13:18<?, ? url/s] MiB]\u001B[A\n",
      "Dl Size...:  99%|█████████▉| 79/80 [13:18<00:10, 10.20s/ MiB]\u001B[A\n",
      "Dl Completed...:   0%|          | 0/1 [13:31<?, ? url/s] MiB]\u001B[A\n",
      "Dl Completed...: 100%|██████████| 1/1 [13:34<00:00, 814.45s/ url]\n",
      "Dl Size...: 100%|██████████| 80/80 [13:34<00:00, 10.18s/ MiB]\u001B[A\n",
      "Dl Completed...: 100%|██████████| 1/1 [13:34<00:00, 814.46s/ url]\n",
      "Generating splits...:   0%|          | 0/3 [00:00<?, ? splits/s]\n",
      "Generating train examples...: 0 examples [00:00, ? examples/s]\u001B[A\n",
      "Generating train examples...: 1 examples [00:01,  1.29s/ examples]\u001B[A\n",
      "Generating train examples...: 11986 examples [00:02, 6291.80 examples/s]\u001B[A\n",
      "Generating train examples...: 24000 examples [00:03, 8740.29 examples/s]\u001B[A\n",
      "                                                                        \u001B[A\n",
      "Shuffling C:\\Users\\17828\\tensorflow_datasets\\imdb_reviews\\plain_text\\1.0.0.incompleteKCHA1E\\imdb_reviews-train.tfrecord*...:   0%|          | 0/25000 [00:00<?, ? examples/s]\u001B[A\n",
      "Shuffling C:\\Users\\17828\\tensorflow_datasets\\imdb_reviews\\plain_text\\1.0.0.incompleteKCHA1E\\imdb_reviews-train.tfrecord*...:  37%|███▋      | 9236/25000 [00:00<00:00, 92077.11 examples/s]\u001B[A\n",
      "Shuffling C:\\Users\\17828\\tensorflow_datasets\\imdb_reviews\\plain_text\\1.0.0.incompleteKCHA1E\\imdb_reviews-train.tfrecord*...:  77%|███████▋  | 19276/25000 [00:00<00:00, 96567.10 examples/s]\u001B[A\n",
      "Generating splits...:  33%|███▎      | 1/3 [00:05<00:11,  5.66s/ splits]                                                                                                                    \u001B[A\n",
      "Generating test examples...: 0 examples [00:00, ? examples/s]\u001B[A\n",
      "Generating test examples...: 7841 examples [00:01, 7837.12 examples/s]\u001B[A\n",
      "Generating test examples...: 19412 examples [00:02, 10028.98 examples/s]\u001B[A\n",
      "                                                                        \u001B[A\n",
      "Shuffling C:\\Users\\17828\\tensorflow_datasets\\imdb_reviews\\plain_text\\1.0.0.incompleteKCHA1E\\imdb_reviews-test.tfrecord*...:   0%|          | 0/25000 [00:00<?, ? examples/s]\u001B[A\n",
      "Shuffling C:\\Users\\17828\\tensorflow_datasets\\imdb_reviews\\plain_text\\1.0.0.incompleteKCHA1E\\imdb_reviews-test.tfrecord*...:  37%|███▋      | 9355/25000 [00:00<00:00, 93279.21 examples/s]\u001B[A\n",
      "Shuffling C:\\Users\\17828\\tensorflow_datasets\\imdb_reviews\\plain_text\\1.0.0.incompleteKCHA1E\\imdb_reviews-test.tfrecord*...:  77%|███████▋  | 19352/25000 [00:00<00:00, 96678.51 examples/s]\u001B[A\n",
      "Generating splits...:  67%|██████▋   | 2/3 [00:11<00:05,  5.68s/ splits]                                                                                                                   \u001B[A\n",
      "Generating unsupervised examples...: 0 examples [00:00, ? examples/s]\u001B[A\n",
      "Generating unsupervised examples...: 1 examples [00:02,  2.29s/ examples]\u001B[A\n",
      "Generating unsupervised examples...: 11454 examples [00:03, 4399.33 examples/s]\u001B[A\n",
      "Generating unsupervised examples...: 22142 examples [00:04, 6625.15 examples/s]\u001B[A\n",
      "Generating unsupervised examples...: 33804 examples [00:05, 8317.36 examples/s]\u001B[A\n",
      "Generating unsupervised examples...: 45658 examples [00:06, 9464.05 examples/s]\u001B[A\n",
      "                                                                               \u001B[A\n",
      "Shuffling C:\\Users\\17828\\tensorflow_datasets\\imdb_reviews\\plain_text\\1.0.0.incompleteKCHA1E\\imdb_reviews-unsupervised.tfrecord*...:   0%|          | 0/50000 [00:00<?, ? examples/s]\u001B[A\n",
      "Shuffling C:\\Users\\17828\\tensorflow_datasets\\imdb_reviews\\plain_text\\1.0.0.incompleteKCHA1E\\imdb_reviews-unsupervised.tfrecord*...:  17%|█▋        | 8570/50000 [00:00<00:00, 84922.99 examples/s]\u001B[A\n",
      "Shuffling C:\\Users\\17828\\tensorflow_datasets\\imdb_reviews\\plain_text\\1.0.0.incompleteKCHA1E\\imdb_reviews-unsupervised.tfrecord*...:  37%|███▋      | 18610/50000 [00:00<00:00, 93721.15 examples/s]\u001B[A\n",
      "Shuffling C:\\Users\\17828\\tensorflow_datasets\\imdb_reviews\\plain_text\\1.0.0.incompleteKCHA1E\\imdb_reviews-unsupervised.tfrecord*...:  57%|█████▋    | 28353/50000 [00:00<00:00, 95308.32 examples/s]\u001B[A\n",
      "Shuffling C:\\Users\\17828\\tensorflow_datasets\\imdb_reviews\\plain_text\\1.0.0.incompleteKCHA1E\\imdb_reviews-unsupervised.tfrecord*...:  76%|███████▋  | 38217/50000 [00:00<00:00, 96472.36 examples/s]\u001B[A\n",
      "Shuffling C:\\Users\\17828\\tensorflow_datasets\\imdb_reviews\\plain_text\\1.0.0.incompleteKCHA1E\\imdb_reviews-unsupervised.tfrecord*...:  96%|█████████▌| 47866/50000 [00:00<00:00, 93487.52 examples/s]\u001B[A\n",
      "                                                                                                                                                                                                   \u001B[A\r"
     ]
    },
    {
     "name": "stdout",
     "output_type": "stream",
     "text": [
      "\u001B[1mDataset imdb_reviews downloaded and prepared to C:\\Users\\17828\\tensorflow_datasets\\imdb_reviews\\plain_text\\1.0.0. Subsequent calls will reuse this data.\u001B[0m\n",
      "tf.Tensor(\n",
      "[b\"This was an absolutely terrible movie. Don't be lured in by Christopher Walken or Michael Ironside. Both are great actors, but this must simply be their worst role in history. Even their great acting could not redeem this movie's ridiculous storyline. This movie is an early nineties US propaganda piece. The most pathetic scenes were those when the Columbian rebels were making their cases for revolutions. Maria Conchita Alonso appeared phony, and her pseudo-love affair with Walken was nothing but a pathetic emotional plug in a movie that was devoid of any real meaning. I am disappointed that there are movies like this, ruining actor's like Christopher Walken's good name. I could barely sit through it.\"\n",
      " b'I have been known to fall asleep during films, but this is usually due to a combination of things including, really tired, being warm and comfortable on the sette and having just eaten a lot. However on this occasion I fell asleep because the film was rubbish. The plot development was constant. Constantly slow and boring. Things seemed to happen, but with no explanation of what was causing them or why. I admit, I may have missed part of the film, but i watched the majority of it and everything just seemed to happen of its own accord without any real concern for anything else. I cant recommend this film at all.'\n",
      " b'Mann photographs the Alberta Rocky Mountains in a superb fashion, and Jimmy Stewart and Walter Brennan give enjoyable performances as they always seem to do. <br /><br />But come on Hollywood - a Mountie telling the people of Dawson City, Yukon to elect themselves a marshal (yes a marshal!) and to enforce the law themselves, then gunfighters battling it out on the streets for control of the town? <br /><br />Nothing even remotely resembling that happened on the Canadian side of the border during the Klondike gold rush. Mr. Mann and company appear to have mistaken Dawson City for Deadwood, the Canadian North for the American Wild West.<br /><br />Canadian viewers be prepared for a Reefer Madness type of enjoyable howl with this ludicrous plot, or, to shake your head in disgust.'\n",
      " b'This is the kind of film for a snowy Sunday afternoon when the rest of the world can go ahead with its own business as you descend into a big arm-chair and mellow for a couple of hours. Wonderful performances from Cher and Nicolas Cage (as always) gently row the plot along. There are no rapids to cross, no dangerous waters, just a warm and witty paddle through New York life at its best. A family film in every sense and one that deserves the praise it received.'\n",
      " b'As others have mentioned, all the women that go nude in this film are mostly absolutely gorgeous. The plot very ably shows the hypocrisy of the female libido. When men are around they want to be pursued, but when no \"men\" are around, they become the pursuers of a 14 year old boy. And the boy becomes a man really fast (we should all be so lucky at this age!). He then gets up the courage to pursue his true love.'\n",
      " b\"This is a film which should be seen by anybody interested in, effected by, or suffering from an eating disorder. It is an amazingly accurate and sensitive portrayal of bulimia in a teenage girl, its causes and its symptoms. The girl is played by one of the most brilliant young actresses working in cinema today, Alison Lohman, who was later so spectacular in 'Where the Truth Lies'. I would recommend that this film be shown in all schools, as you will never see a better on this subject. Alison Lohman is absolutely outstanding, and one marvels at her ability to convey the anguish of a girl suffering from this compulsive disorder. If barometers tell us the air pressure, Alison Lohman tells us the emotional pressure with the same degree of accuracy. Her emotional range is so precise, each scene could be measured microscopically for its gradations of trauma, on a scale of rising hysteria and desperation which reaches unbearable intensity. Mare Winningham is the perfect choice to play her mother, and does so with immense sympathy and a range of emotions just as finely tuned as Lohman's. Together, they make a pair of sensitive emotional oscillators vibrating in resonance with one another. This film is really an astonishing achievement, and director Katt Shea should be proud of it. The only reason for not seeing it is if you are not interested in people. But even if you like nature films best, this is after all animal behaviour at the sharp edge. Bulimia is an extreme version of how a tormented soul can destroy her own body in a frenzy of despair. And if we don't sympathise with people suffering from the depths of despair, then we are dead inside.\"\n",
      " b'Okay, you have:<br /><br />Penelope Keith as Miss Herringbone-Tweed, B.B.E. (Backbone of England.) She\\'s killed off in the first scene - that\\'s right, folks; this show has no backbone!<br /><br />Peter O\\'Toole as Ol\\' Colonel Cricket from The First War and now the emblazered Lord of the Manor.<br /><br />Joanna Lumley as the ensweatered Lady of the Manor, 20 years younger than the colonel and 20 years past her own prime but still glamourous (Brit spelling, not mine) enough to have a toy-boy on the side. It\\'s alright, they have Col. Cricket\\'s full knowledge and consent (they guy even comes \\'round for Christmas!) Still, she\\'s considerate of the colonel enough to have said toy-boy her own age (what a gal!)<br /><br />David McCallum as said toy-boy, equally as pointlessly glamourous as his squeeze. Pilcher couldn\\'t come up with any cover for him within the story, so she gave him a hush-hush job at the Circus.<br /><br />and finally:<br /><br />Susan Hampshire as Miss Polonia Teacups, Venerable Headmistress of the Venerable Girls\\' Boarding-School, serving tea in her office with a dash of deep, poignant advice for life in the outside world just before graduation. Her best bit of advice: \"I\\'ve only been to Nancherrow (the local Stately Home of England) once. I thought it was very beautiful but, somehow, not part of the real world.\" Well, we can\\'t say they didn\\'t warn us.<br /><br />Ah, Susan - time was, your character would have been running the whole show. They don\\'t write \\'em like that any more. Our loss, not yours.<br /><br />So - with a cast and setting like this, you have the re-makings of \"Brideshead Revisited,\" right?<br /><br />Wrong! They took these 1-dimensional supporting roles because they paid so well. After all, acting is one of the oldest temp-jobs there is (YOU name another!)<br /><br />First warning sign: lots and lots of backlighting. They get around it by shooting outdoors - \"hey, it\\'s just the sunlight!\"<br /><br />Second warning sign: Leading Lady cries a lot. When not crying, her eyes are moist. That\\'s the law of romance novels: Leading Lady is \"dewy-eyed.\"<br /><br />Henceforth, Leading Lady shall be known as L.L.<br /><br />Third warning sign: L.L. actually has stars in her eyes when she\\'s in love. Still, I\\'ll give Emily Mortimer an award just for having to act with that spotlight in her eyes (I wonder . did they use contacts?)<br /><br />And lastly, fourth warning sign: no on-screen female character is \"Mrs.\" She\\'s either \"Miss\" or \"Lady.\"<br /><br />When all was said and done, I still couldn\\'t tell you who was pursuing whom and why. I couldn\\'t even tell you what was said and done.<br /><br />To sum up: they all live through World War II without anything happening to them at all.<br /><br />OK, at the end, L.L. finds she\\'s lost her parents to the Japanese prison camps and baby sis comes home catatonic. Meanwhile (there\\'s always a \"meanwhile,\") some young guy L.L. had a crush on (when, I don\\'t know) comes home from some wartime tough spot and is found living on the street by Lady of the Manor (must be some street if SHE\\'s going to find him there.) Both war casualties are whisked away to recover at Nancherrow (SOMEBODY has to be \"whisked away\" SOMEWHERE in these romance stories!)<br /><br />Great drama.'\n",
      " b'The film is based on a genuine 1950s novel.<br /><br />Journalist Colin McInnes wrote a set of three \"London novels\": \"Absolute Beginners\", \"City of Spades\" and \"Mr Love and Justice\". I have read all three. The first two are excellent. The last, perhaps an experiment that did not come off. But McInnes\\'s work is highly acclaimed; and rightly so. This musical is the novelist\\'s ultimate nightmare - to see the fruits of one\\'s mind being turned into a glitzy, badly-acted, soporific one-dimensional apology of a film that says it captures the spirit of 1950s London, and does nothing of the sort.<br /><br />Thank goodness Colin McInnes wasn\\'t alive to witness it.'\n",
      " b'I really love the sexy action and sci-fi films of the sixties and its because of the actress\\'s that appeared in them. They found the sexiest women to be in these films and it didn\\'t matter if they could act (Remember \"Candy\"?). The reason I was disappointed by this film was because it wasn\\'t nostalgic enough. The story here has a European sci-fi film called \"Dragonfly\" being made and the director is fired. So the producers decide to let a young aspiring filmmaker (Jeremy Davies) to complete the picture. They\\'re is one real beautiful woman in the film who plays Dragonfly but she\\'s barely in it. Film is written and directed by Roman Coppola who uses some of his fathers exploits from his early days and puts it into the script. I wish the film could have been an homage to those early films. They could have lots of cameos by actors who appeared in them. There is one actor in this film who was popular from the sixties and its John Phillip Law (Barbarella). Gerard Depardieu, Giancarlo Giannini and Dean Stockwell appear as well. I guess I\\'m going to have to continue waiting for a director to make a good homage to the films of the sixties. If any are reading this, \"Make it as sexy as you can\"! I\\'ll be waiting!'\n",
      " b'Sure, this one isn\\'t really a blockbuster, nor does it target such a position. \"Dieter\" is the first name of a quite popular German musician, who is either loved or hated for his kind of acting and thats exactly what this movie is about. It is based on the autobiography \"Dieter Bohlen\" wrote a few years ago but isn\\'t meant to be accurate on that. The movie is filled with some sexual offensive content (at least for American standard) which is either amusing (not for the other \"actors\" of course) or dumb - it depends on your individual kind of humor or on you being a \"Bohlen\"-Fan or not. Technically speaking there isn\\'t much to criticize. Speaking of me I find this movie to be an OK-movie.'], shape=(10,), dtype=string)\n",
      "tf.Tensor([0 0 0 1 1 1 0 0 0 0], shape=(10,), dtype=int64)\n"
     ]
    }
   ],
   "source": [
    "# SECTION: 下载IMDB数据集\n",
    "'''\n",
    "IMDB数据 可以在Tensorflow数据集处获取，\n",
    "'''\n",
    "train_data, validation_data, test_data = tfds.load(\n",
    "    name='imdb_reviews',\n",
    "    split=('train[:60%]', 'train[60%:]', 'test'),\n",
    "    as_supervised=True\n",
    ")\n",
    "\n",
    "# SECTION: 探索数据\n",
    "\n",
    "'''\n",
    "了解数据格式，每个句子都是一个代表电影评论的句子和一个相应的标签\n",
    "句子未经任何预处理，标签是一个整数值（0或1）， 其中0表示负面评价，而1表示正面评价\n",
    "\n",
    "打印前十个样本\n",
    "'''\n",
    "\n",
    "train_examples_batch, train_labels_batch = next(iter(train_data.batch(10)))\n",
    "print(train_examples_batch)\n",
    "print(train_labels_batch)"
   ],
   "metadata": {
    "collapsed": false
   }
  },
  {
   "cell_type": "code",
   "execution_count": 7,
   "outputs": [
    {
     "data": {
      "text/plain": "<tf.Tensor: shape=(3, 50), dtype=float32, numpy=\narray([[ 0.5423195 , -0.0119017 ,  0.06337538,  0.06862972, -0.16776837,\n        -0.10581174,  0.16865303, -0.04998824, -0.31148055,  0.07910346,\n         0.15442263,  0.01488662,  0.03930153,  0.19772711, -0.12215476,\n        -0.04120981, -0.2704109 , -0.21922152,  0.26517662, -0.80739075,\n         0.25833532, -0.3100421 ,  0.28683215,  0.1943387 , -0.29036492,\n         0.03862849, -0.7844411 , -0.0479324 ,  0.4110299 , -0.36388892,\n        -0.58034706,  0.30269456,  0.3630897 , -0.15227164, -0.44391504,\n         0.19462997,  0.19528408,  0.05666234,  0.2890704 , -0.28468323,\n        -0.00531206,  0.0571938 , -0.3201318 , -0.04418665, -0.08550783,\n        -0.55847436, -0.23336391, -0.20782952, -0.03543064, -0.17533456],\n       [ 0.56338924, -0.12339553, -0.10862679,  0.7753425 , -0.07667089,\n        -0.15752277,  0.01872335, -0.08169781, -0.3521876 ,  0.4637341 ,\n        -0.08492756,  0.07166859, -0.00670817,  0.12686075, -0.19326553,\n        -0.52626437, -0.3295823 ,  0.14394785,  0.09043556, -0.5417555 ,\n         0.02468163, -0.15456742,  0.68333143,  0.09068331, -0.45327246,\n         0.23180096, -0.8615696 ,  0.34480393,  0.12838456, -0.58759046,\n        -0.4071231 ,  0.23061076,  0.48426893, -0.27128142, -0.5380916 ,\n         0.47016326,  0.22572741, -0.00830663,  0.2846242 , -0.304985  ,\n         0.04400365,  0.25025874,  0.14867121,  0.40717036, -0.15422426,\n        -0.06878027, -0.40825695, -0.3149215 ,  0.09283665, -0.20183425],\n       [ 0.7456154 ,  0.21256861,  0.14400336,  0.5233862 ,  0.11032254,\n         0.00902788, -0.3667802 , -0.08938274, -0.24165542,  0.33384594,\n        -0.11194605, -0.01460047, -0.0071645 ,  0.19562712,  0.00685216,\n        -0.24886718, -0.42796347,  0.18620004, -0.05241098, -0.66462487,\n         0.13449019, -0.22205497,  0.08633006,  0.43685386,  0.2972681 ,\n         0.36140734, -0.7196889 ,  0.05291241, -0.14316116, -0.1573394 ,\n        -0.15056328, -0.05988009, -0.08178931, -0.15569411, -0.09303783,\n        -0.18971172,  0.07620788, -0.02541647, -0.27134508, -0.3392682 ,\n        -0.10296468, -0.27275252, -0.34078008,  0.20083304, -0.26644835,\n         0.00655449, -0.05141488, -0.04261917, -0.45413622,  0.20023568]],\n      dtype=float32)>"
     },
     "execution_count": 7,
     "metadata": {},
     "output_type": "execute_result"
    }
   ],
   "source": [
    "# Section: 构建模型\n",
    "'''\n",
    "神经网络由堆叠的层来构建，这需要从三个主要方面来进行体系结构决策\n",
    "\n",
    "- 如何表示文本\n",
    "- 模型有多少层\n",
    "- 每个层有多少个隐层单元\n",
    "\n",
    "本示例 输入数据由句子组成 预测的标签为0和1\n",
    "\n",
    "表示文本的一种方式是将句子转换为嵌入向量。使用一个预训练文本嵌入向量作为首层，这将具有三个优点-\n",
    "- 不必担心文本预处理\n",
    "- 可以从迁移学习中受益\n",
    "- 嵌入具有固定长度，更易于处理\n",
    "\n",
    "使用来自Tensorflow Hub的预训练文本嵌入向量模型，名称google/nnml-en-dim50/2\n",
    "\n",
    "让我们首先创建一个使用Tensorflow Hub模型嵌入语句的keras层，并在几个输入样本中进行尝试，\n",
    "请注意无论输入文本的长度如何，嵌入层输出的形状都是：（Num_examples, embedding_dimension）\n",
    "\n",
    "\n",
    "'''\n",
    "embedding = \"https://tfhub.dev/google/nnlm-en-dim50/2\"   # 预训练文本嵌入向量模型\n",
    "hub_layer = hub.KerasLayer(embedding, input_shape=[], dtype=tf.string, trainable=True)\n",
    "hub_layer(train_examples_batch[:3])\n"
   ],
   "metadata": {
    "collapsed": false
   }
  },
  {
   "cell_type": "code",
   "execution_count": 8,
   "outputs": [
    {
     "name": "stdout",
     "output_type": "stream",
     "text": [
      "Model: \"sequential\"\n",
      "_________________________________________________________________\n",
      " Layer (type)                Output Shape              Param #   \n",
      "=================================================================\n",
      " keras_layer (KerasLayer)    (None, 50)                48190600  \n",
      "                                                                 \n",
      " dense (Dense)               (None, 16)                816       \n",
      "                                                                 \n",
      " dense_1 (Dense)             (None, 1)                 17        \n",
      "                                                                 \n",
      "=================================================================\n",
      "Total params: 48191433 (183.84 MB)\n",
      "Trainable params: 48191433 (183.84 MB)\n",
      "Non-trainable params: 0 (0.00 Byte)\n",
      "_________________________________________________________________\n"
     ]
    }
   ],
   "source": [
    "\n",
    "# SECTION: 构建完整模型\n",
    "\n",
    "'''\n",
    "第一层是Tensorflow Hub层，此层使用预训练的SaveModel将句子映射到其嵌入向量，\n",
    "您使用的预训练文本嵌入向量模型 (google/nnlm-en-dim50/2) 可将句子拆分为词例，嵌入每个词例，然后组合嵌入向量。生成的维度是：(num_examples, embedding_dimension)。对于此 NNLM 模型，embedding_dimension 是 50。\n",
    "\n",
    "该定长输出向量通过一个有16个隐层单元的全连接层（Dense）进行管道传输\n",
    "\n",
    "最后一层与单个输出节点紧密相连，使用Sigmoid激活函数，其函数值为介于0与1之间的浮点数，表示概率或置信水平\n",
    "'''\n",
    "model = tf.keras.Sequential()\n",
    "model.add(hub_layer)\n",
    "model.add(tf.keras.layers.Dense(16, activation='relu'))\n",
    "model.add(tf.keras.layers.Dense(1))\n",
    "\n",
    "model.summary()\n"
   ],
   "metadata": {
    "collapsed": false
   }
  },
  {
   "cell_type": "code",
   "execution_count": 9,
   "outputs": [],
   "source": [
    "# Section:损失函数与优化器\n",
    "\n",
    "model.compile(optimizer='adam',\n",
    "              loss=tf.keras.losses.BinaryCrossentropy(from_logits=True),\n",
    "              metrics=['accuracy'])\n"
   ],
   "metadata": {
    "collapsed": false
   }
  },
  {
   "cell_type": "code",
   "execution_count": 10,
   "outputs": [
    {
     "name": "stdout",
     "output_type": "stream",
     "text": [
      "Epoch 1/10\n",
      "30/30 [==============================] - 10s 322ms/step - loss: 0.6399 - accuracy: 0.5701 - val_loss: 0.5690 - val_accuracy: 0.6700\n",
      "Epoch 2/10\n",
      "30/30 [==============================] - 9s 316ms/step - loss: 0.4933 - accuracy: 0.7426 - val_loss: 0.4580 - val_accuracy: 0.7873\n",
      "Epoch 3/10\n",
      "30/30 [==============================] - 9s 318ms/step - loss: 0.3640 - accuracy: 0.8499 - val_loss: 0.3766 - val_accuracy: 0.8344\n",
      "Epoch 4/10\n",
      "30/30 [==============================] - 9s 318ms/step - loss: 0.2644 - accuracy: 0.8995 - val_loss: 0.3340 - val_accuracy: 0.8542\n",
      "Epoch 5/10\n",
      "30/30 [==============================] - 10s 319ms/step - loss: 0.1944 - accuracy: 0.9328 - val_loss: 0.3135 - val_accuracy: 0.8635\n",
      "Epoch 6/10\n",
      "30/30 [==============================] - 9s 318ms/step - loss: 0.1420 - accuracy: 0.9572 - val_loss: 0.3071 - val_accuracy: 0.8668\n",
      "Epoch 7/10\n",
      "30/30 [==============================] - 9s 316ms/step - loss: 0.1023 - accuracy: 0.9719 - val_loss: 0.3099 - val_accuracy: 0.8677\n",
      "Epoch 8/10\n",
      "30/30 [==============================] - 10s 320ms/step - loss: 0.0735 - accuracy: 0.9821 - val_loss: 0.3198 - val_accuracy: 0.8719\n",
      "Epoch 9/10\n",
      "30/30 [==============================] - 9s 318ms/step - loss: 0.0514 - accuracy: 0.9912 - val_loss: 0.3299 - val_accuracy: 0.8705\n",
      "Epoch 10/10\n",
      "30/30 [==============================] - 10s 319ms/step - loss: 0.0364 - accuracy: 0.9952 - val_loss: 0.3440 - val_accuracy: 0.8686\n"
     ]
    }
   ],
   "source": [
    "# SECTION: 训练模型\n",
    "\n",
    "'''\n",
    "使用包含512个样本的mini-batch对模型进行10个周期的训练，也就是x_train和y_train张量中对所有样本进行10次迭代，\n",
    "在训练时，检测模型在验证集的10000个样本上的损失和准确率\n",
    "'''\n",
    "\n",
    "history = model.fit(train_data.shuffle(10000).batch(512),epochs=10, validation_data=validation_data.batch(512),\n",
    "                    verbose=1)"
   ],
   "metadata": {
    "collapsed": false
   }
  },
  {
   "cell_type": "code",
   "execution_count": 11,
   "outputs": [
    {
     "name": "stdout",
     "output_type": "stream",
     "text": [
      "49/49 - 3s - loss: 0.3711 - accuracy: 0.8514 - 3s/epoch - 54ms/step\n",
      "loss: 0.371\n",
      "accuracy: 0.851\n"
     ]
    }
   ],
   "source": [
    "# Section:评估模型\n",
    "'''\n",
    "将返回两个值，损失值（一个表示误差的数字，值越低越好）与准确率\n",
    "'''\n",
    "\n",
    "results = model.evaluate(test_data.batch(512), verbose=2)\n",
    "\n",
    "for name, value in zip(model.metrics_names, results):\n",
    "    print(\"%s: %.3f\" % (name, value))"
   ],
   "metadata": {
    "collapsed": false
   }
  },
  {
   "cell_type": "code",
   "execution_count": null,
   "outputs": [],
   "source": [],
   "metadata": {
    "collapsed": false
   }
  }
 ],
 "metadata": {
  "kernelspec": {
   "display_name": "Python 3",
   "language": "python",
   "name": "python3"
  },
  "language_info": {
   "codemirror_mode": {
    "name": "ipython",
    "version": 2
   },
   "file_extension": ".py",
   "mimetype": "text/x-python",
   "name": "python",
   "nbconvert_exporter": "python",
   "pygments_lexer": "ipython2",
   "version": "2.7.6"
  }
 },
 "nbformat": 4,
 "nbformat_minor": 0
}
